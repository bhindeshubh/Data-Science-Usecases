{
 "cells": [
  {
   "cell_type": "markdown",
   "id": "903cc17c",
   "metadata": {},
   "source": [
    "# Introduction to Pandas\n",
    "\n",
    "- **What is Pandas?**\n",
    "    - Pandas is an open-source Python library built on top of Numpy.\n",
    "    - Pandas is used for Data Manipulation and Analysis"
   ]
  },
  {
   "cell_type": "markdown",
   "id": "2e30ad5b",
   "metadata": {},
   "source": [
    "## Installation"
   ]
  },
  {
   "cell_type": "code",
   "execution_count": 36,
   "id": "44afb930",
   "metadata": {},
   "outputs": [
    {
     "name": "stdout",
     "output_type": "stream",
     "text": [
      "Requirement already satisfied: pandas in c:\\users\\asus\\anaconda3\\lib\\site-packages (1.5.3)\n",
      "Requirement already satisfied: python-dateutil>=2.8.1 in c:\\users\\asus\\anaconda3\\lib\\site-packages (from pandas) (2.8.2)\n",
      "Requirement already satisfied: numpy>=1.21.0 in c:\\users\\asus\\anaconda3\\lib\\site-packages (from pandas) (1.23.5)\n",
      "Requirement already satisfied: pytz>=2020.1 in c:\\users\\asus\\anaconda3\\lib\\site-packages (from pandas) (2022.7)\n",
      "Requirement already satisfied: six>=1.5 in c:\\users\\asus\\anaconda3\\lib\\site-packages (from python-dateutil>=2.8.1->pandas) (1.16.0)\n"
     ]
    }
   ],
   "source": [
    "# Installing Pandas\n",
    "! pip install pandas"
   ]
  },
  {
   "cell_type": "code",
   "execution_count": 37,
   "id": "2e95eeb9",
   "metadata": {},
   "outputs": [],
   "source": [
    "# Importing the pandas library\n",
    "import pandas as pd"
   ]
  },
  {
   "cell_type": "markdown",
   "id": "95bd7a77",
   "metadata": {},
   "source": [
    "**Pandas Components**\n",
    "\n",
    "- Series\n",
    "    - One-Dimensional\n",
    "    - It is like a column inside a table\n",
    "\n",
    "- Data Frame\n",
    "    - Multi-Dimensional\n",
    "    - It is a table consisting multiple rows & columns"
   ]
  },
  {
   "cell_type": "markdown",
   "id": "d400f25e",
   "metadata": {},
   "source": [
    "## Pandas Series"
   ]
  },
  {
   "cell_type": "markdown",
   "id": "4ae3c4db",
   "metadata": {},
   "source": [
    "- How to create a Pandas Series?\n",
    "    - pd.Series(data, index, dtype, copy)\n",
    "        - data : Enter the data that goes inside series\n",
    "        - index : Starts with 0 by default. It can be changed to anything, but the total index values should be same as total data points\n",
    "        - dtype : The datatype of all the values. It can be string, integer, float, boolean, etc.\n",
    "        - copy : Creates a copy of data"
   ]
  },
  {
   "cell_type": "markdown",
   "id": "6acae8bb",
   "metadata": {},
   "source": [
    "**Ways to create a Pandas Series**\n",
    "- Using List\n",
    "- Using Numpy Array\n",
    "- Using Dictionary"
   ]
  },
  {
   "cell_type": "code",
   "execution_count": 38,
   "id": "c2d8db1e",
   "metadata": {},
   "outputs": [
    {
     "data": {
      "text/plain": [
       "0    19\n",
       "1    24\n",
       "2    30\n",
       "3    41\n",
       "4    53\n",
       "5    64\n",
       "dtype: int64"
      ]
     },
     "execution_count": 38,
     "metadata": {},
     "output_type": "execute_result"
    }
   ],
   "source": [
    "# Creating series using list\n",
    "age_series = pd.Series([19, 24, 30, 41, 53, 64])\n",
    "\n",
    "# Print the series\n",
    "age_series"
   ]
  },
  {
   "cell_type": "code",
   "execution_count": 39,
   "id": "2439c1e2",
   "metadata": {},
   "outputs": [
    {
     "data": {
      "text/plain": [
       "0    30\n",
       "1    52\n",
       "2    43\n",
       "3    40\n",
       "4    50\n",
       "5    60\n",
       "dtype: int32"
      ]
     },
     "execution_count": 39,
     "metadata": {},
     "output_type": "execute_result"
    }
   ],
   "source": [
    "# Importing Numpy\n",
    "import numpy as np\n",
    "\n",
    "# Creating series using numpy array\n",
    "age_series_np = pd.Series(np.array([30, 52, 43, 40, 50, 60]))\n",
    "\n",
    "# Print the series\n",
    "age_series_np"
   ]
  },
  {
   "cell_type": "markdown",
   "id": "237c5984",
   "metadata": {},
   "source": [
    "- **Let's Change the index numbers**"
   ]
  },
  {
   "cell_type": "code",
   "execution_count": 40,
   "id": "d683a50e",
   "metadata": {},
   "outputs": [
    {
     "data": {
      "text/plain": [
       "0     20000\n",
       "2     12000\n",
       "4     43000\n",
       "6     45000\n",
       "8     65000\n",
       "10    66000\n",
       "dtype: int32"
      ]
     },
     "execution_count": 40,
     "metadata": {},
     "output_type": "execute_result"
    }
   ],
   "source": [
    "salary_series_index = pd.Series(np.array([20000, 12000, 43000, 45000, 65000, 66000]),\n",
    "                               index = np.arange(0,12,2))\n",
    "salary_series_index"
   ]
  },
  {
   "cell_type": "markdown",
   "id": "b94d0315",
   "metadata": {},
   "source": [
    "- **Let's Change the index as strings**"
   ]
  },
  {
   "cell_type": "code",
   "execution_count": 41,
   "id": "fbbc4d98",
   "metadata": {},
   "outputs": [
    {
     "data": {
      "text/plain": [
       "A1    20000\n",
       "A2    12000\n",
       "A3    43000\n",
       "A4    45000\n",
       "A5    65000\n",
       "A6    66000\n",
       "dtype: int32"
      ]
     },
     "execution_count": 41,
     "metadata": {},
     "output_type": "execute_result"
    }
   ],
   "source": [
    "emp_series = pd.Series(np.array([20000, 12000, 43000, 45000, 65000, 66000]),\n",
    "                               index = ['A1','A2','A3','A4','A5','A6'])\n",
    "emp_series"
   ]
  },
  {
   "cell_type": "code",
   "execution_count": 42,
   "id": "1e1388a7",
   "metadata": {},
   "outputs": [
    {
     "data": {
      "text/plain": [
       "Dairy                  23000\n",
       "Soft Drinks            45000\n",
       "Fruits & Vegetables    67000\n",
       "dtype: int64"
      ]
     },
     "execution_count": 42,
     "metadata": {},
     "output_type": "execute_result"
    }
   ],
   "source": [
    "# Creating Series using Dictionary\n",
    "prod_dict = {'Dairy':23000, 'Soft Drinks': 45000, 'Fruits & Vegetables': 67000}\n",
    "prod_series = pd.Series(prod_dict)\n",
    "prod_series"
   ]
  },
  {
   "cell_type": "code",
   "execution_count": 43,
   "id": "07809938",
   "metadata": {},
   "outputs": [
    {
     "data": {
      "text/plain": [
       "Index(['Dairy', 'Soft Drinks', 'Fruits & Vegetables'], dtype='object')"
      ]
     },
     "execution_count": 43,
     "metadata": {},
     "output_type": "execute_result"
    }
   ],
   "source": [
    "# Accessing only index names\n",
    "prod_series.index"
   ]
  },
  {
   "cell_type": "code",
   "execution_count": 44,
   "id": "d76cd534",
   "metadata": {},
   "outputs": [
    {
     "data": {
      "text/plain": [
       "array([23000, 45000, 67000], dtype=int64)"
      ]
     },
     "execution_count": 44,
     "metadata": {},
     "output_type": "execute_result"
    }
   ],
   "source": [
    "# Accessing only values\n",
    "prod_series.values"
   ]
  },
  {
   "cell_type": "markdown",
   "id": "759bd257",
   "metadata": {},
   "source": [
    "## Accessing Series Elements"
   ]
  },
  {
   "cell_type": "markdown",
   "id": "7cadc0be",
   "metadata": {},
   "source": [
    "- What if I just want to get only specific values inside a series?\n",
    "    - [] operator is used to access specific value inside the series, using index reference. \n",
    "        - For example: if you want to access 5th element, it's default index value is 4. So, series_name[4] will return the 5th element inside the series"
   ]
  },
  {
   "cell_type": "code",
   "execution_count": 45,
   "id": "0f8dd0d7",
   "metadata": {},
   "outputs": [
    {
     "data": {
      "text/plain": [
       "0    A101\n",
       "1    A102\n",
       "2    A103\n",
       "3    B101\n",
       "4    B102\n",
       "5    B103\n",
       "6    C101\n",
       "7    C102\n",
       "8    C103\n",
       "dtype: object"
      ]
     },
     "execution_count": 45,
     "metadata": {},
     "output_type": "execute_result"
    }
   ],
   "source": [
    "# Creating a series\n",
    "emp_id = pd.Series(np.array(['A101','A102','A103','B101','B102','B103','C101','C102','C103']))\n",
    "emp_id"
   ]
  },
  {
   "cell_type": "code",
   "execution_count": 46,
   "id": "0eef9a69",
   "metadata": {},
   "outputs": [
    {
     "data": {
      "text/plain": [
       "'B102'"
      ]
     },
     "execution_count": 46,
     "metadata": {},
     "output_type": "execute_result"
    }
   ],
   "source": [
    "# Accessing the 5th element\n",
    "emp_id[4]"
   ]
  },
  {
   "cell_type": "code",
   "execution_count": 47,
   "id": "24ce5ad1",
   "metadata": {},
   "outputs": [
    {
     "data": {
      "text/plain": [
       "0    A101\n",
       "1    A102\n",
       "2    A103\n",
       "3    B101\n",
       "dtype: object"
      ]
     },
     "execution_count": 47,
     "metadata": {},
     "output_type": "execute_result"
    }
   ],
   "source": [
    "# Accessing first 4 elements\n",
    "emp_id[:4]"
   ]
  },
  {
   "cell_type": "code",
   "execution_count": 48,
   "id": "4407296f",
   "metadata": {},
   "outputs": [
    {
     "data": {
      "text/plain": [
       "5    B103\n",
       "6    C101\n",
       "7    C102\n",
       "8    C103\n",
       "dtype: object"
      ]
     },
     "execution_count": 48,
     "metadata": {},
     "output_type": "execute_result"
    }
   ],
   "source": [
    "# Accessing last 4 elements\n",
    "emp_id[-4:]"
   ]
  },
  {
   "cell_type": "markdown",
   "id": "df8e32ee",
   "metadata": {},
   "source": [
    "- Note: If you want to access multiple elements inside the series, pass a list of elements you want to access"
   ]
  },
  {
   "cell_type": "code",
   "execution_count": 49,
   "id": "4574373d",
   "metadata": {},
   "outputs": [
    {
     "data": {
      "text/plain": [
       "3    B101\n",
       "4    B102\n",
       "dtype: object"
      ]
     },
     "execution_count": 49,
     "metadata": {},
     "output_type": "execute_result"
    }
   ],
   "source": [
    "# Accessing multiple elements\n",
    "emp_id[[3,4]]"
   ]
  },
  {
   "cell_type": "markdown",
   "id": "1b6716f5",
   "metadata": {},
   "source": [
    "## Filtering the series"
   ]
  },
  {
   "cell_type": "code",
   "execution_count": 51,
   "id": "aa56f24b",
   "metadata": {},
   "outputs": [
    {
     "data": {
      "text/plain": [
       "Charlie    43000\n",
       "David      45000\n",
       "Emma       65000\n",
       "dtype: int32"
      ]
     },
     "execution_count": 51,
     "metadata": {},
     "output_type": "execute_result"
    }
   ],
   "source": [
    "# Creating a series of salary\n",
    "salary_array = np.array([20000, 12000, 43000, 45000, 65000])\n",
    "emp_name_array = np.array(['Alice','Bob','Charlie','David','Emma'])\n",
    "\n",
    "sal_series = pd.Series(data = salary_array, index = emp_name_array)\n",
    "\n",
    "# Filtering the employees with salary more than 40000\n",
    "sal_series[sal_series > 40000]"
   ]
  },
  {
   "cell_type": "markdown",
   "id": "a97b312a",
   "metadata": {},
   "source": [
    "## Arithmetic Operations"
   ]
  },
  {
   "cell_type": "markdown",
   "id": "e3cc32be",
   "metadata": {},
   "source": [
    "### Multiplication"
   ]
  },
  {
   "cell_type": "markdown",
   "id": "7c842505",
   "metadata": {},
   "source": [
    "- Multiplication of single series"
   ]
  },
  {
   "cell_type": "code",
   "execution_count": 52,
   "id": "d717b32c",
   "metadata": {},
   "outputs": [
    {
     "data": {
      "text/plain": [
       "0     60\n",
       "1    240\n",
       "2    320\n",
       "dtype: int32"
      ]
     },
     "execution_count": 52,
     "metadata": {},
     "output_type": "execute_result"
    }
   ],
   "source": [
    "# Creating a series and multiplying it with 2\n",
    "simple_series = pd.Series(np.array([12,48,64]))\n",
    "simple_series*5"
   ]
  },
  {
   "cell_type": "markdown",
   "id": "88d6a37b",
   "metadata": {},
   "source": [
    "- Multiplication of 2 series"
   ]
  },
  {
   "cell_type": "code",
   "execution_count": 21,
   "id": "6d9897c5",
   "metadata": {},
   "outputs": [
    {
     "data": {
      "text/plain": [
       "0    372\n",
       "1    276\n",
       "2    240\n",
       "dtype: int64"
      ]
     },
     "execution_count": 21,
     "metadata": {},
     "output_type": "execute_result"
    }
   ],
   "source": [
    "# multiply() function is used to multiply 2 series\n",
    "serie1 = pd.Series([124,23,15])\n",
    "serie2 = pd.Series([3,12,16])\n",
    "serie1.multiply(serie2)"
   ]
  },
  {
   "cell_type": "markdown",
   "id": "3bb05d62",
   "metadata": {},
   "source": [
    "### Addition\n",
    "- Using + operator"
   ]
  },
  {
   "cell_type": "code",
   "execution_count": 22,
   "id": "eb625e70",
   "metadata": {},
   "outputs": [
    {
     "data": {
      "text/plain": [
       "0    127\n",
       "1     35\n",
       "2     31\n",
       "dtype: int64"
      ]
     },
     "execution_count": 22,
     "metadata": {},
     "output_type": "execute_result"
    }
   ],
   "source": [
    "serie1 + serie2"
   ]
  },
  {
   "cell_type": "markdown",
   "id": "fbfbf34d",
   "metadata": {},
   "source": [
    "## Ranking & Sorting"
   ]
  },
  {
   "cell_type": "markdown",
   "id": "2442e0e2",
   "metadata": {},
   "source": [
    "### Ranking\n",
    "\n",
    "**Note: By default, Ranking is in ascending order**"
   ]
  },
  {
   "cell_type": "code",
   "execution_count": 61,
   "id": "21566a7a",
   "metadata": {},
   "outputs": [
    {
     "data": {
      "text/plain": [
       "0    1.0\n",
       "1    2.0\n",
       "2    3.5\n",
       "3    5.0\n",
       "4    6.0\n",
       "5    7.0\n",
       "6    3.5\n",
       "dtype: float64"
      ]
     },
     "execution_count": 61,
     "metadata": {},
     "output_type": "execute_result"
    }
   ],
   "source": [
    "rank_series = pd.Series([19, 24, 30, 41, 53, 64, 30])\n",
    "rank_series.rank()"
   ]
  },
  {
   "cell_type": "code",
   "execution_count": 24,
   "id": "13141a61",
   "metadata": {},
   "outputs": [
    {
     "data": {
      "text/plain": [
       "0    4.0\n",
       "1    2.0\n",
       "2    1.0\n",
       "3    5.0\n",
       "4    6.0\n",
       "5    3.0\n",
       "dtype: float64"
      ]
     },
     "execution_count": 24,
     "metadata": {},
     "output_type": "execute_result"
    }
   ],
   "source": [
    "series_a = pd.Series([41, 24, 18, 53, 64, 30])\n",
    "series_a.rank()"
   ]
  },
  {
   "cell_type": "code",
   "execution_count": 26,
   "id": "89b35826",
   "metadata": {},
   "outputs": [
    {
     "data": {
      "text/plain": [
       "0    3.0\n",
       "1    5.0\n",
       "2    6.0\n",
       "3    2.0\n",
       "4    1.0\n",
       "5    4.0\n",
       "dtype: float64"
      ]
     },
     "execution_count": 26,
     "metadata": {},
     "output_type": "execute_result"
    }
   ],
   "source": [
    "# Ranking in descending order\n",
    "series_a.rank(ascending=False)"
   ]
  },
  {
   "cell_type": "markdown",
   "id": "a3d78148",
   "metadata": {},
   "source": [
    "### Sorting\n",
    "**Note : By default, sorting is also in ascending order & null values are sorted at the last positions**"
   ]
  },
  {
   "cell_type": "code",
   "execution_count": 27,
   "id": "09f964d4",
   "metadata": {},
   "outputs": [
    {
     "data": {
      "text/plain": [
       "3    18.0\n",
       "1    24.0\n",
       "6    30.0\n",
       "0    41.0\n",
       "4    53.0\n",
       "5    64.0\n",
       "2     NaN\n",
       "7     NaN\n",
       "dtype: float64"
      ]
     },
     "execution_count": 27,
     "metadata": {},
     "output_type": "execute_result"
    }
   ],
   "source": [
    "series_b = pd.Series([41, 24, np.nan, 18, 53, 64, 30, np.nan])\n",
    "series_b.sort_values()"
   ]
  },
  {
   "cell_type": "code",
   "execution_count": 54,
   "id": "ae022fde",
   "metadata": {},
   "outputs": [
    {
     "name": "stdout",
     "output_type": "stream",
     "text": [
      "0    41.0\n",
      "1    24.0\n",
      "2     NaN\n",
      "3    18.0\n",
      "4    53.0\n",
      "5    64.0\n",
      "6    30.0\n",
      "7     NaN\n",
      "dtype: float64\n"
     ]
    },
    {
     "data": {
      "text/plain": [
       "2     NaN\n",
       "7     NaN\n",
       "5    64.0\n",
       "4    53.0\n",
       "0    41.0\n",
       "6    30.0\n",
       "1    24.0\n",
       "3    18.0\n",
       "dtype: float64"
      ]
     },
     "execution_count": 54,
     "metadata": {},
     "output_type": "execute_result"
    }
   ],
   "source": [
    "# Sorting in descending order and putting the null values at the top\n",
    "print(series_b)\n",
    "series_b.sort_values(ascending=False, na_position='first')"
   ]
  },
  {
   "cell_type": "markdown",
   "id": "4f10906a",
   "metadata": {},
   "source": [
    "## Checking Null Values\n",
    "- **isnull()** : This function is used to check if the value is null or not. Returns True if null & False if not null\n",
    "- **notnull()** : This function is used to check if the value is null or not. Returns True if not null & False if null"
   ]
  },
  {
   "cell_type": "code",
   "execution_count": 55,
   "id": "efba39e4",
   "metadata": {},
   "outputs": [
    {
     "name": "stdout",
     "output_type": "stream",
     "text": [
      "0    41.0\n",
      "1    24.0\n",
      "2     NaN\n",
      "3    18.0\n",
      "4    53.0\n",
      "5    64.0\n",
      "6    30.0\n",
      "7     NaN\n",
      "dtype: float64\n"
     ]
    },
    {
     "data": {
      "text/plain": [
       "0    False\n",
       "1    False\n",
       "2     True\n",
       "3    False\n",
       "4    False\n",
       "5    False\n",
       "6    False\n",
       "7     True\n",
       "dtype: bool"
      ]
     },
     "execution_count": 55,
     "metadata": {},
     "output_type": "execute_result"
    }
   ],
   "source": [
    "# Using isnull()\n",
    "print(series_b)\n",
    "series_b.isnull()"
   ]
  },
  {
   "cell_type": "code",
   "execution_count": 31,
   "id": "b726617c",
   "metadata": {},
   "outputs": [
    {
     "data": {
      "text/plain": [
       "0     True\n",
       "1     True\n",
       "2    False\n",
       "3     True\n",
       "4     True\n",
       "5     True\n",
       "6     True\n",
       "7    False\n",
       "dtype: bool"
      ]
     },
     "execution_count": 31,
     "metadata": {},
     "output_type": "execute_result"
    }
   ],
   "source": [
    "# Using notnull()\n",
    "series_b.notnull()"
   ]
  },
  {
   "cell_type": "markdown",
   "id": "c0576ac1",
   "metadata": {},
   "source": [
    "## Concatenate a Series"
   ]
  },
  {
   "cell_type": "code",
   "execution_count": 32,
   "id": "a8fc3b16",
   "metadata": {},
   "outputs": [
    {
     "data": {
      "text/plain": [
       "0       0.000000\n",
       "1       5.263158\n",
       "2      10.526316\n",
       "3      15.789474\n",
       "4      21.052632\n",
       "5      26.315789\n",
       "6      31.578947\n",
       "7      36.842105\n",
       "8      42.105263\n",
       "9      47.368421\n",
       "10     52.631579\n",
       "11     57.894737\n",
       "12     63.157895\n",
       "13     68.421053\n",
       "14     73.684211\n",
       "15     78.947368\n",
       "16     84.210526\n",
       "17     89.473684\n",
       "18     94.736842\n",
       "19    100.000000\n",
       "0       1.000000\n",
       "1       6.263158\n",
       "2      11.526316\n",
       "3      16.789474\n",
       "4      22.052632\n",
       "5      27.315789\n",
       "6      32.578947\n",
       "7      37.842105\n",
       "8      43.105263\n",
       "9      48.368421\n",
       "10     53.631579\n",
       "11     58.894737\n",
       "12     64.157895\n",
       "13     69.421053\n",
       "14     74.684211\n",
       "15     79.947368\n",
       "16     85.210526\n",
       "17     90.473684\n",
       "18     95.736842\n",
       "19    101.000000\n",
       "dtype: float64"
      ]
     },
     "execution_count": 32,
     "metadata": {},
     "output_type": "execute_result"
    }
   ],
   "source": [
    "# Creating 2 series\n",
    "class1 = np.linspace(0,100,20)\n",
    "class2 = np.linspace(1,101,20)\n",
    "series1 = pd.Series(class1)\n",
    "series2 = pd.Series(class2)\n",
    "\n",
    "# Using pandas concat method\n",
    "pd.concat([series1, series2])"
   ]
  },
  {
   "cell_type": "markdown",
   "id": "8856f19d",
   "metadata": {},
   "source": [
    "**Note that the index is repeated. Let's check how to solve that.**"
   ]
  },
  {
   "cell_type": "code",
   "execution_count": 57,
   "id": "f9634fc2",
   "metadata": {},
   "outputs": [
    {
     "data": {
      "text/plain": [
       "0       0.000000\n",
       "1       5.263158\n",
       "2      10.526316\n",
       "3      15.789474\n",
       "4      21.052632\n",
       "5      26.315789\n",
       "6      31.578947\n",
       "7      36.842105\n",
       "8      42.105263\n",
       "9      47.368421\n",
       "10     52.631579\n",
       "11     57.894737\n",
       "12     63.157895\n",
       "13     68.421053\n",
       "14     73.684211\n",
       "15     78.947368\n",
       "16     84.210526\n",
       "17     89.473684\n",
       "18     94.736842\n",
       "19    100.000000\n",
       "20      1.000000\n",
       "21      6.263158\n",
       "22     11.526316\n",
       "23     16.789474\n",
       "24     22.052632\n",
       "25     27.315789\n",
       "26     32.578947\n",
       "27     37.842105\n",
       "28     43.105263\n",
       "29     48.368421\n",
       "30     53.631579\n",
       "31     58.894737\n",
       "32     64.157895\n",
       "33     69.421053\n",
       "34     74.684211\n",
       "35     79.947368\n",
       "36     85.210526\n",
       "37     90.473684\n",
       "38     95.736842\n",
       "39    101.000000\n",
       "dtype: float64"
      ]
     },
     "execution_count": 57,
     "metadata": {},
     "output_type": "execute_result"
    }
   ],
   "source": [
    "pd.concat([series1, series2], ignore_index=True)"
   ]
  },
  {
   "cell_type": "code",
   "execution_count": 34,
   "id": "212ecce2",
   "metadata": {},
   "outputs": [
    {
     "name": "stderr",
     "output_type": "stream",
     "text": [
      "C:\\Users\\ASUS\\AppData\\Local\\Temp\\ipykernel_16192\\1580000382.py:1: FutureWarning: The series.append method is deprecated and will be removed from pandas in a future version. Use pandas.concat instead.\n",
      "  series1.append(series2)\n"
     ]
    },
    {
     "data": {
      "text/plain": [
       "0       0.000000\n",
       "1       5.263158\n",
       "2      10.526316\n",
       "3      15.789474\n",
       "4      21.052632\n",
       "5      26.315789\n",
       "6      31.578947\n",
       "7      36.842105\n",
       "8      42.105263\n",
       "9      47.368421\n",
       "10     52.631579\n",
       "11     57.894737\n",
       "12     63.157895\n",
       "13     68.421053\n",
       "14     73.684211\n",
       "15     78.947368\n",
       "16     84.210526\n",
       "17     89.473684\n",
       "18     94.736842\n",
       "19    100.000000\n",
       "0       1.000000\n",
       "1       6.263158\n",
       "2      11.526316\n",
       "3      16.789474\n",
       "4      22.052632\n",
       "5      27.315789\n",
       "6      32.578947\n",
       "7      37.842105\n",
       "8      43.105263\n",
       "9      48.368421\n",
       "10     53.631579\n",
       "11     58.894737\n",
       "12     64.157895\n",
       "13     69.421053\n",
       "14     74.684211\n",
       "15     79.947368\n",
       "16     85.210526\n",
       "17     90.473684\n",
       "18     95.736842\n",
       "19    101.000000\n",
       "dtype: float64"
      ]
     },
     "execution_count": 34,
     "metadata": {},
     "output_type": "execute_result"
    }
   ],
   "source": [
    "# Using series append method\n",
    "series1.append(series2)"
   ]
  },
  {
   "cell_type": "markdown",
   "id": "7033e390",
   "metadata": {},
   "source": [
    "**Q. You have a Pandas Series of integers. Write a function that returns a new Series containing only the even numbers from the original Series, but with their positions (index) unchanged.**"
   ]
  },
  {
   "cell_type": "code",
   "execution_count": 64,
   "id": "0231b279",
   "metadata": {},
   "outputs": [
    {
     "data": {
      "text/plain": [
       "0     1\n",
       "1     4\n",
       "2     7\n",
       "3    10\n",
       "4    13\n",
       "5    16\n",
       "6    19\n",
       "7    22\n",
       "dtype: int32"
      ]
     },
     "execution_count": 64,
     "metadata": {},
     "output_type": "execute_result"
    }
   ],
   "source": [
    "ser = pd.Series(np.arange(1,25,3))\n",
    "ser"
   ]
  },
  {
   "cell_type": "code",
   "execution_count": 66,
   "id": "89de1c49",
   "metadata": {},
   "outputs": [
    {
     "data": {
      "text/plain": [
       "1     4\n",
       "3    10\n",
       "5    16\n",
       "7    22\n",
       "dtype: int32"
      ]
     },
     "execution_count": 66,
     "metadata": {},
     "output_type": "execute_result"
    }
   ],
   "source": [
    "ser1 = ser[ser%2==0]\n",
    "ser1"
   ]
  },
  {
   "cell_type": "markdown",
   "id": "a2a0d75b",
   "metadata": {},
   "source": [
    "**Q. Given two Pandas Series of different lengths, align them by their index and add them together. If an index exists in only one of the Series, the result should keep the value from the existing Series without throwing an error.**"
   ]
  },
  {
   "cell_type": "code",
   "execution_count": 68,
   "id": "9191060d",
   "metadata": {},
   "outputs": [
    {
     "name": "stdout",
     "output_type": "stream",
     "text": [
      "0     1\n",
      "1     7\n",
      "2    13\n",
      "3    19\n",
      "dtype: int32 0     1.0\n",
      "1     6.5\n",
      "2    12.0\n",
      "dtype: float64\n"
     ]
    }
   ],
   "source": [
    "a = pd.Series(np.arange(1,25,6))\n",
    "b = pd.Series(np.linspace(1,12,3))\n",
    "print(a,b)"
   ]
  },
  {
   "cell_type": "code",
   "execution_count": 73,
   "id": "f41d2291",
   "metadata": {},
   "outputs": [
    {
     "data": {
      "text/plain": [
       "0     2.0\n",
       "1    13.5\n",
       "2    25.0\n",
       "3    19.0\n",
       "dtype: float64"
      ]
     },
     "execution_count": 73,
     "metadata": {},
     "output_type": "execute_result"
    }
   ],
   "source": [
    "a.add(b,fill_value=0)"
   ]
  },
  {
   "cell_type": "code",
   "execution_count": null,
   "id": "71690392",
   "metadata": {},
   "outputs": [],
   "source": []
  }
 ],
 "metadata": {
  "kernelspec": {
   "display_name": "Python 3 (ipykernel)",
   "language": "python",
   "name": "python3"
  },
  "language_info": {
   "codemirror_mode": {
    "name": "ipython",
    "version": 3
   },
   "file_extension": ".py",
   "mimetype": "text/x-python",
   "name": "python",
   "nbconvert_exporter": "python",
   "pygments_lexer": "ipython3",
   "version": "3.10.9"
  }
 },
 "nbformat": 4,
 "nbformat_minor": 5
}
