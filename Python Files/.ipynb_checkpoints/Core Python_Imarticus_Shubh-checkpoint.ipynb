{
 "cells": [
  {
   "cell_type": "markdown",
   "id": "24cee080",
   "metadata": {},
   "source": [
    "## 19-07-2024"
   ]
  },
  {
   "cell_type": "markdown",
   "id": "95cd9f36",
   "metadata": {},
   "source": [
    "Testing Jupyter Notebook"
   ]
  },
  {
   "cell_type": "code",
   "execution_count": 5,
   "id": "28dbdac7",
   "metadata": {},
   "outputs": [
    {
     "name": "stdout",
     "output_type": "stream",
     "text": [
      "Hello World\n"
     ]
    }
   ],
   "source": [
    "print(\"Hello World\")"
   ]
  },
  {
   "cell_type": "code",
   "execution_count": 2,
   "id": "cd17439a",
   "metadata": {},
   "outputs": [
    {
     "name": "stdout",
     "output_type": "stream",
     "text": [
      "Namaste\n"
     ]
    },
    {
     "data": {
      "text/plain": [
       "'Namaste'"
      ]
     },
     "execution_count": 2,
     "metadata": {},
     "output_type": "execute_result"
    }
   ],
   "source": [
    "input()"
   ]
  },
  {
   "cell_type": "code",
   "execution_count": 3,
   "id": "3fc4e48f",
   "metadata": {},
   "outputs": [
    {
     "name": "stdout",
     "output_type": "stream",
     "text": [
      "test\n"
     ]
    }
   ],
   "source": [
    "print('test')"
   ]
  },
  {
   "cell_type": "markdown",
   "id": "48d42e0a",
   "metadata": {},
   "source": [
    "# HEADING 1"
   ]
  },
  {
   "cell_type": "markdown",
   "id": "a3b3df93",
   "metadata": {},
   "source": [
    "## HEADING 2"
   ]
  },
  {
   "cell_type": "markdown",
   "id": "b101f1a4",
   "metadata": {},
   "source": [
    "### HEADING 3"
   ]
  },
  {
   "cell_type": "markdown",
   "id": "a449bdeb",
   "metadata": {},
   "source": [
    "#### HEADING 4"
   ]
  },
  {
   "cell_type": "markdown",
   "id": "c809a239",
   "metadata": {},
   "source": [
    "##### HEADING 5"
   ]
  },
  {
   "cell_type": "markdown",
   "id": "fd965f2e",
   "metadata": {},
   "source": [
    "###### HEADING 6"
   ]
  },
  {
   "cell_type": "markdown",
   "id": "3a8ac27b",
   "metadata": {},
   "source": [
    "**Bold**"
   ]
  },
  {
   "cell_type": "markdown",
   "id": "345e3fb4",
   "metadata": {},
   "source": [
    "*Italic*"
   ]
  },
  {
   "cell_type": "markdown",
   "id": "b91011f1",
   "metadata": {},
   "source": [
    "~Strikethrough~"
   ]
  },
  {
   "cell_type": "markdown",
   "id": "9d57504a",
   "metadata": {},
   "source": [
    "***\n",
    "print('Hello')\n",
    "***"
   ]
  },
  {
   "cell_type": "markdown",
   "id": "5b323bf3",
   "metadata": {},
   "source": [
    "```python\n",
    "print('Hello World')\n",
    "x = 2\n",
    "y = 1\n",
    "print(x+y)\n",
    "```"
   ]
  },
  {
   "cell_type": "markdown",
   "id": "97c197cb",
   "metadata": {},
   "source": [
    "- Hello\n",
    "    - indentation\n",
    "1. Point 1\n",
    "2. Point 2\n",
    "3. Point 3"
   ]
  },
  {
   "cell_type": "markdown",
   "id": "8fc68310",
   "metadata": {},
   "source": [
    "## Literals"
   ]
  },
  {
   "cell_type": "code",
   "execution_count": 6,
   "id": "fb753485",
   "metadata": {},
   "outputs": [
    {
     "data": {
      "text/plain": [
       "'Shubh'"
      ]
     },
     "execution_count": 6,
     "metadata": {},
     "output_type": "execute_result"
    }
   ],
   "source": [
    "1\n",
    "1.2\n",
    "'Shubh'"
   ]
  },
  {
   "cell_type": "code",
   "execution_count": 9,
   "id": "3efc8a6d",
   "metadata": {},
   "outputs": [],
   "source": [
    "integer = 1\n",
    "flt = 1.2\n",
    "string = 'Shubh'"
   ]
  },
  {
   "cell_type": "code",
   "execution_count": 10,
   "id": "a3c7f0c6",
   "metadata": {},
   "outputs": [
    {
     "name": "stdout",
     "output_type": "stream",
     "text": [
      "1 1.2 Shubh\n"
     ]
    }
   ],
   "source": [
    "print(integer, flt, string)"
   ]
  },
  {
   "cell_type": "code",
   "execution_count": 11,
   "id": "3432f7df",
   "metadata": {},
   "outputs": [
    {
     "data": {
      "text/plain": [
       "1"
      ]
     },
     "execution_count": 11,
     "metadata": {},
     "output_type": "execute_result"
    }
   ],
   "source": [
    "integer"
   ]
  },
  {
   "cell_type": "code",
   "execution_count": 12,
   "id": "fe91e8e8",
   "metadata": {},
   "outputs": [
    {
     "data": {
      "text/plain": [
       "1.2"
      ]
     },
     "execution_count": 12,
     "metadata": {},
     "output_type": "execute_result"
    }
   ],
   "source": [
    "flt"
   ]
  },
  {
   "cell_type": "code",
   "execution_count": 13,
   "id": "6687f940",
   "metadata": {},
   "outputs": [
    {
     "data": {
      "text/plain": [
       "'Shubh'"
      ]
     },
     "execution_count": 13,
     "metadata": {},
     "output_type": "execute_result"
    }
   ],
   "source": [
    "string"
   ]
  },
  {
   "cell_type": "markdown",
   "id": "fb90e380",
   "metadata": {},
   "source": [
    "Take birth year and give age"
   ]
  },
  {
   "cell_type": "code",
   "execution_count": 14,
   "id": "e25a52d4",
   "metadata": {},
   "outputs": [
    {
     "name": "stdout",
     "output_type": "stream",
     "text": [
      "Enter your date of birth2002\n"
     ]
    }
   ],
   "source": [
    "dob = int(input('Enter your date of birth'))"
   ]
  },
  {
   "cell_type": "code",
   "execution_count": 15,
   "id": "308aa68c",
   "metadata": {},
   "outputs": [
    {
     "data": {
      "text/plain": [
       "int"
      ]
     },
     "execution_count": 15,
     "metadata": {},
     "output_type": "execute_result"
    }
   ],
   "source": [
    "type(dob)"
   ]
  },
  {
   "cell_type": "code",
   "execution_count": 16,
   "id": "cb9b94b4",
   "metadata": {},
   "outputs": [
    {
     "name": "stdout",
     "output_type": "stream",
     "text": [
      "22\n"
     ]
    }
   ],
   "source": [
    "age = 2024 - dob\n",
    "print(age)"
   ]
  },
  {
   "cell_type": "code",
   "execution_count": 10,
   "id": "89c75ed0",
   "metadata": {},
   "outputs": [],
   "source": [
    "a = 5\n",
    "b = 10"
   ]
  },
  {
   "cell_type": "code",
   "execution_count": 8,
   "id": "c18eb8c8",
   "metadata": {},
   "outputs": [],
   "source": [
    "a = a * 2\n",
    "b = b//2"
   ]
  },
  {
   "cell_type": "code",
   "execution_count": 9,
   "id": "901457e4",
   "metadata": {},
   "outputs": [
    {
     "name": "stdout",
     "output_type": "stream",
     "text": [
      "10 5\n"
     ]
    }
   ],
   "source": [
    "print(a,b)"
   ]
  },
  {
   "cell_type": "code",
   "execution_count": 11,
   "id": "8f990fb5",
   "metadata": {},
   "outputs": [
    {
     "name": "stdout",
     "output_type": "stream",
     "text": [
      "10\n",
      "5\n"
     ]
    }
   ],
   "source": [
    "c = a\n",
    "a = b\n",
    "b = c\n",
    "print(a)\n",
    "print(b)"
   ]
  },
  {
   "cell_type": "code",
   "execution_count": 12,
   "id": "653aa94e",
   "metadata": {},
   "outputs": [],
   "source": [
    "a, b = 5, 2\n",
    "b,a = a,b"
   ]
  },
  {
   "cell_type": "code",
   "execution_count": 1,
   "id": "4933c5c8",
   "metadata": {},
   "outputs": [
    {
     "name": "stdout",
     "output_type": "stream",
     "text": [
      "Roger's Age = 24\n",
      "Roger's Income = 10000\n",
      "Roger's Experience = 7\n"
     ]
    }
   ],
   "source": [
    "roger_age, roger_income, roger_experience = 24, 10000, 7\n",
    "print(\"Roger's Age =\", roger_age)\n",
    "print(\"Roger's Income =\", roger_income)\n",
    "print(\"Roger's Experience =\", roger_experience)"
   ]
  },
  {
   "cell_type": "markdown",
   "id": "c8336b58",
   "metadata": {},
   "source": [
    "# 23-07-2024"
   ]
  },
  {
   "cell_type": "code",
   "execution_count": 13,
   "id": "59d1365a",
   "metadata": {},
   "outputs": [],
   "source": [
    "x = 'Shubh has a nice computer'"
   ]
  },
  {
   "cell_type": "code",
   "execution_count": 21,
   "id": "c033c992",
   "metadata": {},
   "outputs": [
    {
     "data": {
      "text/plain": [
       "'Shubh'"
      ]
     },
     "execution_count": 21,
     "metadata": {},
     "output_type": "execute_result"
    }
   ],
   "source": [
    "x[0:5]"
   ]
  },
  {
   "cell_type": "code",
   "execution_count": 22,
   "id": "040324e8",
   "metadata": {},
   "outputs": [
    {
     "data": {
      "text/plain": [
       "'computer'"
      ]
     },
     "execution_count": 22,
     "metadata": {},
     "output_type": "execute_result"
    }
   ],
   "source": [
    "x[17:]"
   ]
  },
  {
   "cell_type": "code",
   "execution_count": 23,
   "id": "d4691ca6",
   "metadata": {},
   "outputs": [],
   "source": [
    "my_string = \"Hello, World!\""
   ]
  },
  {
   "cell_type": "code",
   "execution_count": 24,
   "id": "0f7f1caf",
   "metadata": {},
   "outputs": [
    {
     "name": "stdout",
     "output_type": "stream",
     "text": [
      "Hello\n",
      "World!\n"
     ]
    }
   ],
   "source": [
    "print(my_string[0:5])\n",
    "print(my_string[7:])"
   ]
  },
  {
   "cell_type": "code",
   "execution_count": 28,
   "id": "49075abb",
   "metadata": {},
   "outputs": [
    {
     "name": "stdout",
     "output_type": "stream",
     "text": [
      ", Wo\n"
     ]
    }
   ],
   "source": [
    "print(my_string[-8:-4])"
   ]
  },
  {
   "cell_type": "code",
   "execution_count": 29,
   "id": "e9d5976c",
   "metadata": {},
   "outputs": [
    {
     "data": {
      "text/plain": [
       "'Hlo ol!'"
      ]
     },
     "execution_count": 29,
     "metadata": {},
     "output_type": "execute_result"
    }
   ],
   "source": [
    "my_string[0: :2]"
   ]
  },
  {
   "cell_type": "code",
   "execution_count": 34,
   "id": "d2ba68ab",
   "metadata": {},
   "outputs": [],
   "source": [
    "# Slice individual store it in a variable\n",
    "# Reverse the new variable created\n",
    "n = \"We can access individual characters in a string using indexing, like this\""
   ]
  },
  {
   "cell_type": "code",
   "execution_count": 35,
   "id": "b8758169",
   "metadata": {},
   "outputs": [],
   "source": [
    "x = n.split()[3]"
   ]
  },
  {
   "cell_type": "code",
   "execution_count": 36,
   "id": "7420d287",
   "metadata": {},
   "outputs": [
    {
     "data": {
      "text/plain": [
       "'laudividni'"
      ]
     },
     "execution_count": 36,
     "metadata": {},
     "output_type": "execute_result"
    }
   ],
   "source": [
    "x[::-1]"
   ]
  },
  {
   "cell_type": "code",
   "execution_count": 39,
   "id": "541b4b7c",
   "metadata": {},
   "outputs": [
    {
     "data": {
      "text/plain": [
       "'laudividni'"
      ]
     },
     "execution_count": 39,
     "metadata": {},
     "output_type": "execute_result"
    }
   ],
   "source": [
    "y = n.split()[-9]\n",
    "y[::-1]"
   ]
  },
  {
   "cell_type": "markdown",
   "id": "ee75b3e1",
   "metadata": {},
   "source": [
    "### Addition"
   ]
  },
  {
   "cell_type": "code",
   "execution_count": 43,
   "id": "cda0da14",
   "metadata": {},
   "outputs": [
    {
     "name": "stdout",
     "output_type": "stream",
     "text": [
      "110000\n"
     ]
    }
   ],
   "source": [
    "# Adding two integers\n",
    "\n",
    "income = 100000\n",
    "incentives = 10000\n",
    "total_income = income + incentives\n",
    "print(total_income)"
   ]
  },
  {
   "cell_type": "code",
   "execution_count": 44,
   "id": "55382dbb",
   "metadata": {},
   "outputs": [
    {
     "name": "stdout",
     "output_type": "stream",
     "text": [
      "112550.5\n"
     ]
    }
   ],
   "source": [
    "# adding one float and one integer values\n",
    "income = 100000\n",
    "incentives = 12550.50\n",
    "total_income = income + incentives\n",
    "print(total_income)"
   ]
  },
  {
   "cell_type": "code",
   "execution_count": 45,
   "id": "786bf94c",
   "metadata": {},
   "outputs": [
    {
     "name": "stdout",
     "output_type": "stream",
     "text": [
      "Mike Anderson\n"
     ]
    }
   ],
   "source": [
    "# adding two strings\n",
    "first_name = 'Mike'\n",
    "last_name = 'Anderson'\n",
    "full_name = first_name + ' ' + last_name\n",
    "print(full_name)"
   ]
  },
  {
   "cell_type": "code",
   "execution_count": 46,
   "id": "6ea0ac28",
   "metadata": {},
   "outputs": [
    {
     "name": "stdout",
     "output_type": "stream",
     "text": [
      "Age is 22\n"
     ]
    }
   ],
   "source": [
    "# adding two strings\n",
    "text = \"Age is \"\n",
    "age = \"22\"\n",
    "combine = text + age\n",
    "print(combine)"
   ]
  },
  {
   "cell_type": "markdown",
   "id": "13bebe08",
   "metadata": {},
   "source": [
    "### Subtraction"
   ]
  },
  {
   "cell_type": "code",
   "execution_count": 47,
   "id": "02426694",
   "metadata": {},
   "outputs": [
    {
     "name": "stdout",
     "output_type": "stream",
     "text": [
      "97500\n"
     ]
    }
   ],
   "source": [
    "# subtracting two integers\n",
    "income = 100000\n",
    "tax = 2500\n",
    "total_income = income - tax\n",
    "print(total_income)"
   ]
  },
  {
   "cell_type": "code",
   "execution_count": 48,
   "id": "bd53f480",
   "metadata": {},
   "outputs": [
    {
     "name": "stdout",
     "output_type": "stream",
     "text": [
      "97449.25\n"
     ]
    }
   ],
   "source": [
    "# subtracting one float and one integer value\n",
    "income = 100000\n",
    "tax = 2550.75\n",
    "total_income = income - tax\n",
    "print(total_income)"
   ]
  },
  {
   "cell_type": "markdown",
   "id": "9f6568ce",
   "metadata": {},
   "source": [
    "### Multiplication"
   ]
  },
  {
   "cell_type": "code",
   "execution_count": 49,
   "id": "b490880a",
   "metadata": {},
   "outputs": [
    {
     "name": "stdout",
     "output_type": "stream",
     "text": [
      "3000\n"
     ]
    }
   ],
   "source": [
    "# multiplication of two integers\n",
    "unit_price = 20\n",
    "total_units_purchased = 150\n",
    "total_amount = unit_price * total_units_purchased\n",
    "print(total_amount)"
   ]
  },
  {
   "cell_type": "code",
   "execution_count": 50,
   "id": "fdc6c58b",
   "metadata": {},
   "outputs": [
    {
     "name": "stdout",
     "output_type": "stream",
     "text": [
      "1830.0\n"
     ]
    }
   ],
   "source": [
    "# multiplication of one integer and one float value\n",
    "unit_price = 12.2\n",
    "total_units_purchased = 150\n",
    "total_amount = unit_price * total_units_purchased\n",
    "print(total_amount)"
   ]
  },
  {
   "cell_type": "code",
   "execution_count": 55,
   "id": "da0c2f44",
   "metadata": {},
   "outputs": [
    {
     "name": "stdout",
     "output_type": "stream",
     "text": [
      "Enter a nameSingapore \n",
      "No. of times to multiply the value 3\n",
      "Singapore Singapore Singapore \n"
     ]
    }
   ],
   "source": [
    "# multiplication of string with integer\n",
    "value = input(\"Enter a name\")\n",
    "count = int(input(\"No. of times to multiply the value \"))\n",
    "result = value * count\n",
    "print(result)"
   ]
  },
  {
   "cell_type": "markdown",
   "id": "c4c84f56",
   "metadata": {},
   "source": [
    "### Modulus"
   ]
  },
  {
   "cell_type": "code",
   "execution_count": 56,
   "id": "37e80ee1",
   "metadata": {},
   "outputs": [
    {
     "name": "stdout",
     "output_type": "stream",
     "text": [
      "9\n"
     ]
    }
   ],
   "source": [
    "# using modulus operator to find the remainder\n",
    "total_cost = 2700\n",
    "quantity = 23\n",
    "price_per_unit = total_cost % quantity\n",
    "print(price_per_unit)"
   ]
  },
  {
   "cell_type": "code",
   "execution_count": 57,
   "id": "9dea5a03",
   "metadata": {},
   "outputs": [
    {
     "name": "stdout",
     "output_type": "stream",
     "text": [
      "9.5\n"
     ]
    }
   ],
   "source": [
    "# using modulus operator to find the remainder\n",
    "total_cost = 2700.50\n",
    "quantity = 23\n",
    "price_per_unit = total_cost % quantity\n",
    "print(price_per_unit)"
   ]
  },
  {
   "cell_type": "markdown",
   "id": "a5056bbb",
   "metadata": {},
   "source": [
    "### Floor Division"
   ]
  },
  {
   "cell_type": "code",
   "execution_count": 58,
   "id": "dbf63e06",
   "metadata": {},
   "outputs": [
    {
     "name": "stdout",
     "output_type": "stream",
     "text": [
      "565\n"
     ]
    }
   ],
   "source": [
    "# division operation to get quotient\n",
    "# it is known as floor division\n",
    "total_cost = 13000\n",
    "quantity = 23\n",
    "price_per_unit = total_cost // quantity\n",
    "print(price_per_unit)"
   ]
  },
  {
   "cell_type": "code",
   "execution_count": 59,
   "id": "be804551",
   "metadata": {},
   "outputs": [
    {
     "name": "stdout",
     "output_type": "stream",
     "text": [
      "521.0\n"
     ]
    }
   ],
   "source": [
    "# division operation to get quotient\n",
    "# it is known as floor division\n",
    "total_cost = 12000.25\n",
    "quantity = 23\n",
    "price_per_unit = total_cost // quantity\n",
    "print(price_per_unit)"
   ]
  },
  {
   "cell_type": "markdown",
   "id": "87c21968",
   "metadata": {},
   "source": [
    "### Exponentiation"
   ]
  },
  {
   "cell_type": "code",
   "execution_count": 60,
   "id": "37232d0d",
   "metadata": {},
   "outputs": [
    {
     "name": "stdout",
     "output_type": "stream",
     "text": [
      "400\n"
     ]
    }
   ],
   "source": [
    "# Squaring values\n",
    "square_side = 20\n",
    "area_of_square = square_side**2\n",
    "print(area_of_square)"
   ]
  },
  {
   "cell_type": "code",
   "execution_count": 61,
   "id": "1b01ab11",
   "metadata": {},
   "outputs": [
    {
     "name": "stdout",
     "output_type": "stream",
     "text": [
      "8000\n"
     ]
    }
   ],
   "source": [
    "# cubing the values\n",
    "cube_side = 20\n",
    "volume_of_cube = cube_side**3\n",
    "print(volume_of_cube)"
   ]
  },
  {
   "cell_type": "markdown",
   "id": "e19b5bbe",
   "metadata": {},
   "source": [
    "### Logical Operators"
   ]
  },
  {
   "cell_type": "code",
   "execution_count": 65,
   "id": "b9847734",
   "metadata": {},
   "outputs": [
    {
     "name": "stdout",
     "output_type": "stream",
     "text": [
      "Enter first number24\n",
      "Enter second number24\n",
      "True\n"
     ]
    }
   ],
   "source": [
    "input_1 = int(input(\"Enter first number\"))\n",
    "input_2 = int(input(\"Enter second number\"))\n",
    "a = input_1 == input_2\n",
    "print(a)"
   ]
  },
  {
   "cell_type": "code",
   "execution_count": 66,
   "id": "ce134bb0",
   "metadata": {},
   "outputs": [
    {
     "name": "stdout",
     "output_type": "stream",
     "text": [
      "Enter first number13\n",
      "Enter second number56\n",
      "True\n"
     ]
    }
   ],
   "source": [
    "input_1 = int(input(\"Enter first number\"))\n",
    "input_2 = int(input(\"Enter second number\"))\n",
    "b = input_1 < input_2\n",
    "print(b)"
   ]
  },
  {
   "cell_type": "code",
   "execution_count": 68,
   "id": "30927ad9",
   "metadata": {},
   "outputs": [
    {
     "name": "stdout",
     "output_type": "stream",
     "text": [
      "Enter first number15\n",
      "Enter second number78\n",
      "False\n"
     ]
    }
   ],
   "source": [
    "input_1 = int(input(\"Enter first number\"))\n",
    "input_2 = int(input(\"Enter second number\"))\n",
    "c = input_1 > input_2\n",
    "print(c)"
   ]
  },
  {
   "cell_type": "code",
   "execution_count": 69,
   "id": "8c74e159",
   "metadata": {},
   "outputs": [
    {
     "name": "stdout",
     "output_type": "stream",
     "text": [
      "Enter first number36\n",
      "Enter second number66\n",
      "True\n"
     ]
    }
   ],
   "source": [
    "input_1 = int(input(\"Enter first number\"))\n",
    "input_2 = int(input(\"Enter second number\"))\n",
    "d = input_1 <= input_2\n",
    "print(d)"
   ]
  },
  {
   "cell_type": "code",
   "execution_count": 70,
   "id": "2505523a",
   "metadata": {},
   "outputs": [
    {
     "name": "stdout",
     "output_type": "stream",
     "text": [
      "Enter first number34\n",
      "Enter second number55\n",
      "False\n"
     ]
    }
   ],
   "source": [
    "input_1 = int(input(\"Enter first number\"))\n",
    "input_2 = int(input(\"Enter second number\"))\n",
    "e = input_1 >= input_2\n",
    "print(e)"
   ]
  },
  {
   "cell_type": "code",
   "execution_count": 72,
   "id": "0dd21ee8",
   "metadata": {},
   "outputs": [
    {
     "name": "stdout",
     "output_type": "stream",
     "text": [
      "True\n"
     ]
    }
   ],
   "source": [
    "f = type(a) == type(b)\n",
    "print(f)"
   ]
  },
  {
   "cell_type": "code",
   "execution_count": 73,
   "id": "7c561628",
   "metadata": {},
   "outputs": [
    {
     "name": "stdout",
     "output_type": "stream",
     "text": [
      "True\n"
     ]
    }
   ],
   "source": [
    "g = type(a) is type(b)\n",
    "print(g)"
   ]
  },
  {
   "cell_type": "code",
   "execution_count": 74,
   "id": "5fc8a0fe",
   "metadata": {},
   "outputs": [
    {
     "name": "stdout",
     "output_type": "stream",
     "text": [
      "True\n"
     ]
    }
   ],
   "source": [
    "h = type(a) is not type(\"Shubh\")\n",
    "print(h)"
   ]
  },
  {
   "cell_type": "code",
   "execution_count": 77,
   "id": "0b72a2cc",
   "metadata": {},
   "outputs": [
    {
     "name": "stdout",
     "output_type": "stream",
     "text": [
      "Enter a number27\n",
      "Enter a number44\n",
      "71\n"
     ]
    }
   ],
   "source": [
    "a = int(input(\"Enter a number\"))\n",
    "b = int(input(\"Enter a number\"))\n",
    "a += b\n",
    "print(a)"
   ]
  },
  {
   "cell_type": "code",
   "execution_count": 78,
   "id": "a2145aca",
   "metadata": {},
   "outputs": [
    {
     "name": "stdout",
     "output_type": "stream",
     "text": [
      "Enter a number14\n",
      "Enter a number5\n",
      "70\n"
     ]
    }
   ],
   "source": [
    "a = int(input(\"Enter a number\"))\n",
    "b = int(input(\"Enter a number\"))\n",
    "a *= b\n",
    "print(a)"
   ]
  },
  {
   "cell_type": "code",
   "execution_count": 79,
   "id": "e4691ea4",
   "metadata": {},
   "outputs": [
    {
     "name": "stdout",
     "output_type": "stream",
     "text": [
      "Enter a number14\n",
      "Enter a number7\n",
      "2.0\n"
     ]
    }
   ],
   "source": [
    "a = int(input(\"Enter a number\"))\n",
    "b = int(input(\"Enter a number\"))\n",
    "a /= b\n",
    "print(a)"
   ]
  },
  {
   "cell_type": "code",
   "execution_count": 80,
   "id": "eff336c9",
   "metadata": {},
   "outputs": [
    {
     "name": "stdout",
     "output_type": "stream",
     "text": [
      "Enter a number25\n",
      "Enter a number4\n",
      "1\n"
     ]
    }
   ],
   "source": [
    "a = int(input(\"Enter a number\"))\n",
    "b = int(input(\"Enter a number\"))\n",
    "a %= b\n",
    "print(a)"
   ]
  },
  {
   "cell_type": "code",
   "execution_count": 81,
   "id": "93a2fd61",
   "metadata": {},
   "outputs": [
    {
     "name": "stdout",
     "output_type": "stream",
     "text": [
      "Enter a number5\n",
      "Enter a number2\n",
      "25\n"
     ]
    }
   ],
   "source": [
    "a = int(input(\"Enter a number\"))\n",
    "b = int(input(\"Enter a number\"))\n",
    "a **= b\n",
    "print(a)"
   ]
  },
  {
   "cell_type": "code",
   "execution_count": 83,
   "id": "96b1753a",
   "metadata": {},
   "outputs": [
    {
     "name": "stdout",
     "output_type": "stream",
     "text": [
      "Enter a number60\n",
      "Enter a number15\n",
      "4\n"
     ]
    }
   ],
   "source": [
    "a = int(input(\"Enter a number\"))\n",
    "b = int(input(\"Enter a number\"))\n",
    "a //= b\n",
    "print(a)"
   ]
  },
  {
   "cell_type": "markdown",
   "id": "683195c9",
   "metadata": {},
   "source": [
    "## Control Flow Statements\n",
    "### - **If**"
   ]
  },
  {
   "cell_type": "code",
   "execution_count": 85,
   "id": "a80bd2d2",
   "metadata": {},
   "outputs": [
    {
     "name": "stdout",
     "output_type": "stream",
     "text": [
      "Enter a number: 62\n",
      "Even\n",
      "End of Program\n"
     ]
    }
   ],
   "source": [
    "# one input and check if it is even\n",
    "\n",
    "number = int(input(\"Enter a number: \"))\n",
    "\n",
    "even = number%2 == 0\n",
    "if even:\n",
    "    print(\"Even\")\n",
    "else:\n",
    "    print(\"Odd\")\n",
    "    \n",
    "print(\"End of Program\")"
   ]
  },
  {
   "cell_type": "code",
   "execution_count": 86,
   "id": "42a4632e",
   "metadata": {},
   "outputs": [
    {
     "name": "stdout",
     "output_type": "stream",
     "text": [
      "Enter a number: 5\n",
      "Odd\n",
      "End of Program\n"
     ]
    }
   ],
   "source": [
    "# one input and check if it is odd\n",
    "\n",
    "number = int(input(\"Enter a number: \"))\n",
    "\n",
    "odd = number%2 != 0\n",
    "if even:\n",
    "    print(\"Odd\")\n",
    "else:\n",
    "    print(\"Even\")\n",
    "    \n",
    "print(\"End of Program\")"
   ]
  },
  {
   "cell_type": "code",
   "execution_count": 91,
   "id": "02a9a879",
   "metadata": {},
   "outputs": [
    {
     "name": "stdout",
     "output_type": "stream",
     "text": [
      "Enter a number: 15\n",
      "Fizzbuzz\n",
      "End of program\n"
     ]
    }
   ],
   "source": [
    "#WAP to take input from user and print:\n",
    "#fizz if the number is divisible by 3\n",
    "#buzz if it is divisible by 5\n",
    "#fizzbuzz if divisible by both\n",
    "#else print not divisible\n",
    "\n",
    "number = int(input(\"Enter a number: \"))\n",
    "\n",
    "if number%3 == 0 and number%5 == 0:\n",
    "    print(\"Fizzbuzz\")\n",
    "elif number%5 == 0:\n",
    "    print(\"buzz\")\n",
    "elif number%3 == 0:\n",
    "    print(\"fizz\")\n",
    "else:\n",
    "    print(\"Not divisible\")\n",
    "print(\"End of program\")"
   ]
  },
  {
   "cell_type": "code",
   "execution_count": 94,
   "id": "a1b2e0a0",
   "metadata": {},
   "outputs": [
    {
     "name": "stdout",
     "output_type": "stream",
     "text": [
      "Enter the marks: 45\n",
      "E\n",
      "End of program\n"
     ]
    }
   ],
   "source": [
    "# Grader\n",
    "#a >= 90\n",
    "#b = 80 - 90\n",
    "#c = 80 - 60\n",
    "#d = 60 - 50\n",
    "#e = 50 - 35\n",
    "#fail =< 35\n",
    "\n",
    "grader = int(input(\"Enter the marks: \"))\n",
    "\n",
    "a = grader > 90 and grader <= 100\n",
    "b = grader <= 90 and grader > 80\n",
    "c = grader <= 80 and grader > 60\n",
    "d = grader <= 60 and grader > 50\n",
    "e = grader <= 50 and grader > 35\n",
    "\n",
    "if a:\n",
    "    print(\"A\")\n",
    "elif b:\n",
    "    print(\"B\")\n",
    "elif c:\n",
    "    print(\"C\")\n",
    "elif d:\n",
    "    print(\"D\")\n",
    "elif e:\n",
    "    print(\"E\")\n",
    "else:\n",
    "    print(\"Fail\")\n",
    "    \n",
    "print(\"End of program\")"
   ]
  },
  {
   "cell_type": "markdown",
   "id": "ad5dfe95",
   "metadata": {},
   "source": [
    "# 24/07/2024"
   ]
  },
  {
   "cell_type": "code",
   "execution_count": 6,
   "id": "061f474a",
   "metadata": {},
   "outputs": [
    {
     "data": {
      "text/plain": [
       "['__add__',\n",
       " '__class__',\n",
       " '__contains__',\n",
       " '__delattr__',\n",
       " '__dir__',\n",
       " '__doc__',\n",
       " '__eq__',\n",
       " '__format__',\n",
       " '__ge__',\n",
       " '__getattribute__',\n",
       " '__getitem__',\n",
       " '__getnewargs__',\n",
       " '__gt__',\n",
       " '__hash__',\n",
       " '__init__',\n",
       " '__init_subclass__',\n",
       " '__iter__',\n",
       " '__le__',\n",
       " '__len__',\n",
       " '__lt__',\n",
       " '__mod__',\n",
       " '__mul__',\n",
       " '__ne__',\n",
       " '__new__',\n",
       " '__reduce__',\n",
       " '__reduce_ex__',\n",
       " '__repr__',\n",
       " '__rmod__',\n",
       " '__rmul__',\n",
       " '__setattr__',\n",
       " '__sizeof__',\n",
       " '__str__',\n",
       " '__subclasshook__',\n",
       " 'capitalize',\n",
       " 'casefold',\n",
       " 'center',\n",
       " 'count',\n",
       " 'encode',\n",
       " 'endswith',\n",
       " 'expandtabs',\n",
       " 'find',\n",
       " 'format',\n",
       " 'format_map',\n",
       " 'index',\n",
       " 'isalnum',\n",
       " 'isalpha',\n",
       " 'isascii',\n",
       " 'isdecimal',\n",
       " 'isdigit',\n",
       " 'isidentifier',\n",
       " 'islower',\n",
       " 'isnumeric',\n",
       " 'isprintable',\n",
       " 'isspace',\n",
       " 'istitle',\n",
       " 'isupper',\n",
       " 'join',\n",
       " 'ljust',\n",
       " 'lower',\n",
       " 'lstrip',\n",
       " 'maketrans',\n",
       " 'partition',\n",
       " 'removeprefix',\n",
       " 'removesuffix',\n",
       " 'replace',\n",
       " 'rfind',\n",
       " 'rindex',\n",
       " 'rjust',\n",
       " 'rpartition',\n",
       " 'rsplit',\n",
       " 'rstrip',\n",
       " 'split',\n",
       " 'splitlines',\n",
       " 'startswith',\n",
       " 'strip',\n",
       " 'swapcase',\n",
       " 'title',\n",
       " 'translate',\n",
       " 'upper',\n",
       " 'zfill']"
      ]
     },
     "execution_count": 6,
     "metadata": {},
     "output_type": "execute_result"
    }
   ],
   "source": [
    "dir(str)"
   ]
  },
  {
   "cell_type": "code",
   "execution_count": 7,
   "id": "60d3dd21",
   "metadata": {},
   "outputs": [
    {
     "name": "stdout",
     "output_type": "stream",
     "text": [
      "Help on method_descriptor:\n",
      "\n",
      "find(...)\n",
      "    S.find(sub[, start[, end]]) -> int\n",
      "    \n",
      "    Return the lowest index in S where substring sub is found,\n",
      "    such that sub is contained within S[start:end].  Optional\n",
      "    arguments start and end are interpreted as in slice notation.\n",
      "    \n",
      "    Return -1 on failure.\n",
      "\n"
     ]
    }
   ],
   "source": [
    "help(str.find)"
   ]
  },
  {
   "cell_type": "code",
   "execution_count": 11,
   "id": "d39c9527",
   "metadata": {},
   "outputs": [
    {
     "name": "stdout",
     "output_type": "stream",
     "text": [
      "Enter First Name: Hannah\n",
      "Enter Full Name: Hannah Anna\n"
     ]
    },
    {
     "data": {
      "text/plain": [
       "0"
      ]
     },
     "execution_count": 11,
     "metadata": {},
     "output_type": "execute_result"
    }
   ],
   "source": [
    "# two strings first name & full name, return the index of the first occurence of firstname string in fullname string, or\n",
    "# -1 if firstname is not part of fullname\n",
    "\n",
    "firstname = input(\"Enter First Name: \")\n",
    "fullname = input(\"Enter Full Name: \")\n",
    "\n",
    "fullname.find(firstname)"
   ]
  },
  {
   "cell_type": "markdown",
   "id": "aed7bba9",
   "metadata": {},
   "source": [
    "## List"
   ]
  },
  {
   "cell_type": "code",
   "execution_count": 12,
   "id": "ccb984ae",
   "metadata": {},
   "outputs": [
    {
     "data": {
      "text/plain": [
       "['__add__',\n",
       " '__class__',\n",
       " '__class_getitem__',\n",
       " '__contains__',\n",
       " '__delattr__',\n",
       " '__delitem__',\n",
       " '__dir__',\n",
       " '__doc__',\n",
       " '__eq__',\n",
       " '__format__',\n",
       " '__ge__',\n",
       " '__getattribute__',\n",
       " '__getitem__',\n",
       " '__gt__',\n",
       " '__hash__',\n",
       " '__iadd__',\n",
       " '__imul__',\n",
       " '__init__',\n",
       " '__init_subclass__',\n",
       " '__iter__',\n",
       " '__le__',\n",
       " '__len__',\n",
       " '__lt__',\n",
       " '__mul__',\n",
       " '__ne__',\n",
       " '__new__',\n",
       " '__reduce__',\n",
       " '__reduce_ex__',\n",
       " '__repr__',\n",
       " '__reversed__',\n",
       " '__rmul__',\n",
       " '__setattr__',\n",
       " '__setitem__',\n",
       " '__sizeof__',\n",
       " '__str__',\n",
       " '__subclasshook__',\n",
       " 'append',\n",
       " 'clear',\n",
       " 'copy',\n",
       " 'count',\n",
       " 'extend',\n",
       " 'index',\n",
       " 'insert',\n",
       " 'pop',\n",
       " 'remove',\n",
       " 'reverse',\n",
       " 'sort']"
      ]
     },
     "execution_count": 12,
     "metadata": {},
     "output_type": "execute_result"
    }
   ],
   "source": [
    "dir(list)"
   ]
  },
  {
   "cell_type": "code",
   "execution_count": 33,
   "id": "a0a86b99",
   "metadata": {},
   "outputs": [],
   "source": [
    "list1 = [1, 5, 12, 55, \"Hello World\", \"Shubh\", [2,4,5]]"
   ]
  },
  {
   "cell_type": "code",
   "execution_count": 14,
   "id": "ace9328a",
   "metadata": {},
   "outputs": [
    {
     "name": "stdout",
     "output_type": "stream",
     "text": [
      "[1, 5, 12, 55, 'Hello World', 'Shubh', [2, 4, 5]]\n"
     ]
    }
   ],
   "source": [
    "print(list1)"
   ]
  },
  {
   "cell_type": "code",
   "execution_count": 17,
   "id": "5f75f444",
   "metadata": {},
   "outputs": [
    {
     "name": "stdout",
     "output_type": "stream",
     "text": [
      "[1, 5, 12, 55, 'Hello World', 'Shubh', [2, 4, 5], '', '', '']\n"
     ]
    }
   ],
   "source": [
    "list1.append(\"\")\n",
    "print(list1)"
   ]
  },
  {
   "cell_type": "code",
   "execution_count": 32,
   "id": "f639b457",
   "metadata": {},
   "outputs": [],
   "source": [
    "list1.clear()"
   ]
  },
  {
   "cell_type": "code",
   "execution_count": 19,
   "id": "aef1276a",
   "metadata": {},
   "outputs": [
    {
     "name": "stdout",
     "output_type": "stream",
     "text": [
      "[]\n"
     ]
    }
   ],
   "source": [
    "print(list1)"
   ]
  },
  {
   "cell_type": "code",
   "execution_count": 24,
   "id": "bb3f85ad",
   "metadata": {},
   "outputs": [],
   "source": [
    "list2 = list1.copy()"
   ]
  },
  {
   "cell_type": "code",
   "execution_count": 25,
   "id": "2ad46ced",
   "metadata": {},
   "outputs": [
    {
     "data": {
      "text/plain": [
       "[1, 5, 12, 55, 'Hello World', 'Shubh', [2, 4, 5]]"
      ]
     },
     "execution_count": 25,
     "metadata": {},
     "output_type": "execute_result"
    }
   ],
   "source": [
    "list2"
   ]
  },
  {
   "cell_type": "code",
   "execution_count": 28,
   "id": "9906a174",
   "metadata": {},
   "outputs": [
    {
     "data": {
      "text/plain": [
       "1"
      ]
     },
     "execution_count": 28,
     "metadata": {},
     "output_type": "execute_result"
    }
   ],
   "source": [
    "list1.count(5)"
   ]
  },
  {
   "cell_type": "code",
   "execution_count": 34,
   "id": "04390db2",
   "metadata": {},
   "outputs": [],
   "source": [
    "list1.extend([\"Nice Car\"])"
   ]
  },
  {
   "cell_type": "code",
   "execution_count": 35,
   "id": "07449441",
   "metadata": {},
   "outputs": [
    {
     "name": "stdout",
     "output_type": "stream",
     "text": [
      "[1, 5, 12, 55, 'Hello World', 'Shubh', [2, 4, 5], 'Nice Car']\n"
     ]
    }
   ],
   "source": [
    "print(list1)"
   ]
  },
  {
   "cell_type": "code",
   "execution_count": 38,
   "id": "204382a2",
   "metadata": {},
   "outputs": [
    {
     "data": {
      "text/plain": [
       "1"
      ]
     },
     "execution_count": 38,
     "metadata": {},
     "output_type": "execute_result"
    }
   ],
   "source": [
    "list1.index(5)"
   ]
  },
  {
   "cell_type": "code",
   "execution_count": 40,
   "id": "20437729",
   "metadata": {},
   "outputs": [
    {
     "name": "stdout",
     "output_type": "stream",
     "text": [
      "[1, 5, 12, 'Handsome boy', 55, 'Hello World', 'Shubh', [2, 4, 5], 'Nice Car']\n"
     ]
    }
   ],
   "source": [
    "list1.insert(3,\"Handsome boy\")\n",
    "print(list1)"
   ]
  },
  {
   "cell_type": "code",
   "execution_count": 44,
   "id": "1dd79364",
   "metadata": {},
   "outputs": [],
   "source": [
    "list1.reverse()"
   ]
  },
  {
   "cell_type": "code",
   "execution_count": 45,
   "id": "367ddb33",
   "metadata": {},
   "outputs": [
    {
     "data": {
      "text/plain": [
       "['Nice Car', [2, 4, 5], 'Shubh', 'Hello World', 55, 'Handsome boy', 12, 5, 1]"
      ]
     },
     "execution_count": 45,
     "metadata": {},
     "output_type": "execute_result"
    }
   ],
   "source": [
    "list1"
   ]
  },
  {
   "cell_type": "markdown",
   "id": "26a8d429",
   "metadata": {},
   "source": [
    "## Tuple"
   ]
  },
  {
   "cell_type": "markdown",
   "id": "c9ff4a92",
   "metadata": {},
   "source": [
    "Tuple is default python data structure"
   ]
  },
  {
   "cell_type": "code",
   "execution_count": 46,
   "id": "588a67be",
   "metadata": {},
   "outputs": [
    {
     "data": {
      "text/plain": [
       "['__add__',\n",
       " '__class__',\n",
       " '__class_getitem__',\n",
       " '__contains__',\n",
       " '__delattr__',\n",
       " '__dir__',\n",
       " '__doc__',\n",
       " '__eq__',\n",
       " '__format__',\n",
       " '__ge__',\n",
       " '__getattribute__',\n",
       " '__getitem__',\n",
       " '__getnewargs__',\n",
       " '__gt__',\n",
       " '__hash__',\n",
       " '__init__',\n",
       " '__init_subclass__',\n",
       " '__iter__',\n",
       " '__le__',\n",
       " '__len__',\n",
       " '__lt__',\n",
       " '__mul__',\n",
       " '__ne__',\n",
       " '__new__',\n",
       " '__reduce__',\n",
       " '__reduce_ex__',\n",
       " '__repr__',\n",
       " '__rmul__',\n",
       " '__setattr__',\n",
       " '__sizeof__',\n",
       " '__str__',\n",
       " '__subclasshook__',\n",
       " 'count',\n",
       " 'index']"
      ]
     },
     "execution_count": 46,
     "metadata": {},
     "output_type": "execute_result"
    }
   ],
   "source": [
    "dir(tuple)"
   ]
  },
  {
   "cell_type": "markdown",
   "id": "a0e73d13",
   "metadata": {},
   "source": [
    "## Dictionary"
   ]
  },
  {
   "cell_type": "code",
   "execution_count": 48,
   "id": "f16735b4",
   "metadata": {},
   "outputs": [
    {
     "data": {
      "text/plain": [
       "['__class__',\n",
       " '__class_getitem__',\n",
       " '__contains__',\n",
       " '__delattr__',\n",
       " '__delitem__',\n",
       " '__dir__',\n",
       " '__doc__',\n",
       " '__eq__',\n",
       " '__format__',\n",
       " '__ge__',\n",
       " '__getattribute__',\n",
       " '__getitem__',\n",
       " '__gt__',\n",
       " '__hash__',\n",
       " '__init__',\n",
       " '__init_subclass__',\n",
       " '__ior__',\n",
       " '__iter__',\n",
       " '__le__',\n",
       " '__len__',\n",
       " '__lt__',\n",
       " '__ne__',\n",
       " '__new__',\n",
       " '__or__',\n",
       " '__reduce__',\n",
       " '__reduce_ex__',\n",
       " '__repr__',\n",
       " '__reversed__',\n",
       " '__ror__',\n",
       " '__setattr__',\n",
       " '__setitem__',\n",
       " '__sizeof__',\n",
       " '__str__',\n",
       " '__subclasshook__',\n",
       " 'clear',\n",
       " 'copy',\n",
       " 'fromkeys',\n",
       " 'get',\n",
       " 'items',\n",
       " 'keys',\n",
       " 'pop',\n",
       " 'popitem',\n",
       " 'setdefault',\n",
       " 'update',\n",
       " 'values']"
      ]
     },
     "execution_count": 48,
     "metadata": {},
     "output_type": "execute_result"
    }
   ],
   "source": [
    "dir(dict)"
   ]
  },
  {
   "cell_type": "code",
   "execution_count": 50,
   "id": "19c7fd1a",
   "metadata": {},
   "outputs": [],
   "source": [
    "dictionary = {\"Key1\": [1,2,3], \"Key2\": \"Shubh\", \"Key3\": [\"Shubh\",12]}"
   ]
  },
  {
   "cell_type": "code",
   "execution_count": 51,
   "id": "39668f22",
   "metadata": {},
   "outputs": [
    {
     "data": {
      "text/plain": [
       "dict"
      ]
     },
     "execution_count": 51,
     "metadata": {},
     "output_type": "execute_result"
    }
   ],
   "source": [
    "type(dictionary)"
   ]
  },
  {
   "cell_type": "markdown",
   "id": "2d1eb5ab",
   "metadata": {},
   "source": [
    "### f format"
   ]
  },
  {
   "cell_type": "code",
   "execution_count": 52,
   "id": "0688fd2c",
   "metadata": {},
   "outputs": [
    {
     "name": "stdout",
     "output_type": "stream",
     "text": [
      "Element at index 0: 1\n"
     ]
    }
   ],
   "source": [
    "my_tuple = (1, 2, 3)\n",
    "print(f\"Element at index 0: {my_tuple[0]}\")"
   ]
  },
  {
   "cell_type": "markdown",
   "id": "4143fd92",
   "metadata": {},
   "source": [
    "## Control Flow Statements\n",
    "### - **Loops**"
   ]
  },
  {
   "cell_type": "markdown",
   "id": "d130474e",
   "metadata": {},
   "source": [
    "#### **For Loop** : Used for finite number of times\n",
    "#### **While Loop** : Used for infinite number of times"
   ]
  },
  {
   "cell_type": "code",
   "execution_count": 53,
   "id": "61da825b",
   "metadata": {},
   "outputs": [
    {
     "name": "stdout",
     "output_type": "stream",
     "text": [
      "[0, 1, 2, 3, 4, 5, 6, 7, 8, 9, 10]\n"
     ]
    }
   ],
   "source": [
    "# all values from 0 to 10\n",
    "list1 = []\n",
    "\n",
    "for i in range(0,11):\n",
    "    list1.append(i)\n",
    "    \n",
    "print(list1)"
   ]
  },
  {
   "cell_type": "code",
   "execution_count": 55,
   "id": "a6fd8f16",
   "metadata": {},
   "outputs": [
    {
     "name": "stdout",
     "output_type": "stream",
     "text": [
      "[0, 2, 4, 6, 8, 10]\n"
     ]
    }
   ],
   "source": [
    "# all even numbers from 0 to 10\n",
    "list2 = []\n",
    "\n",
    "for i in range(0,11,2):\n",
    "    list2.append(i)\n",
    "    \n",
    "print(list2)"
   ]
  },
  {
   "cell_type": "code",
   "execution_count": 57,
   "id": "d327d314",
   "metadata": {},
   "outputs": [
    {
     "name": "stdout",
     "output_type": "stream",
     "text": [
      "[1, 3, 5, 7, 9]\n"
     ]
    }
   ],
   "source": [
    "# all odd numbers from 0 to 10\n",
    "list3 = []\n",
    "\n",
    "for i in range(1,11,2):\n",
    "    list3.append(i)\n",
    "    \n",
    "print(list3)"
   ]
  },
  {
   "cell_type": "code",
   "execution_count": 58,
   "id": "6c803059",
   "metadata": {},
   "outputs": [
    {
     "name": "stdout",
     "output_type": "stream",
     "text": [
      "Consonant h\n",
      "h\n",
      "Vowel e\n",
      "e\n",
      "Consonant l\n",
      "l\n",
      "Consonant l\n",
      "l\n",
      "Vowel o\n",
      "o\n",
      "Consonant  \n",
      " \n",
      "Consonant w\n",
      "w\n",
      "Vowel o\n",
      "o\n",
      "Consonant r\n",
      "r\n",
      "Consonant l\n",
      "l\n",
      "Consonant d\n",
      "d\n"
     ]
    }
   ],
   "source": [
    "string = 'HELLO World'\n",
    "vowels = 'aeiou'\n",
    "\n",
    "for letter in string.lower():\n",
    "    if letter in vowels:\n",
    "        print(f'Vowel {letter}')\n",
    "    else:\n",
    "        print(f'Consonant {letter}')\n",
    "    print(letter)"
   ]
  },
  {
   "cell_type": "code",
   "execution_count": 63,
   "id": "e623f21c",
   "metadata": {},
   "outputs": [
    {
     "name": "stdout",
     "output_type": "stream",
     "text": [
      "Consonant h\n",
      "h\n",
      "Vowel e\n",
      "e\n",
      "Consonant l\n",
      "l\n",
      "Consonant l\n",
      "l\n",
      "Vowel o\n",
      "o\n",
      "Consonant  \n",
      " \n",
      "Consonant w\n",
      "w\n",
      "Vowel o\n",
      "o\n",
      "Consonant r\n",
      "r\n",
      "Consonant l\n",
      "l\n",
      "Consonant d\n",
      "d\n"
     ]
    }
   ],
   "source": [
    "string = 'HELLO World'\n",
    "vowels = 'aeiou'\n",
    "\n",
    "for letter in string.lower():\n",
    "    if letter in vowels:\n",
    "        print(f'Vowel {letter}')\n",
    "    else:\n",
    "        print(f'Consonant {letter}')\n",
    "    print(letter)"
   ]
  },
  {
   "cell_type": "code",
   "execution_count": 65,
   "id": "24221e55",
   "metadata": {},
   "outputs": [
    {
     "name": "stdout",
     "output_type": "stream",
     "text": [
      "[20, 21, 22, 23, 24, 25, 26, 27, 28, 29, 30]\n"
     ]
    }
   ],
   "source": [
    "# create a for loop and add numbers 20 to 30 in a list\n",
    "list1 = []\n",
    "\n",
    "for i in range(20,31):\n",
    "    list1.append(i)\n",
    "    \n",
    "print(list1)"
   ]
  },
  {
   "cell_type": "code",
   "execution_count": 67,
   "id": "04e0180a",
   "metadata": {},
   "outputs": [
    {
     "name": "stdout",
     "output_type": "stream",
     "text": [
      "Enter a number: 2\n",
      "1 * 2 = 2\n",
      "2 * 2 = 4\n",
      "3 * 2 = 6\n",
      "4 * 2 = 8\n",
      "5 * 2 = 10\n",
      "6 * 2 = 12\n",
      "7 * 2 = 14\n",
      "8 * 2 = 16\n",
      "9 * 2 = 18\n",
      "10 * 2 = 20\n"
     ]
    }
   ],
   "source": [
    "# take input from user and print its multiplication table for first 10 numbers\n",
    "num = int(input(\"Enter a number: \"))\n",
    "\n",
    "for i in range(1,11):\n",
    "    print(f'{i} * {num} = {num*i}')"
   ]
  },
  {
   "cell_type": "code",
   "execution_count": 74,
   "id": "c0dce85a",
   "metadata": {},
   "outputs": [
    {
     "name": "stdout",
     "output_type": "stream",
     "text": [
      "[5, 10, 15, 20, 25, 30, 35, 40, 45, 50, 55, 60, 65, 70, 75, 80, 85, 90, 95, 100]\n"
     ]
    }
   ],
   "source": [
    "# WAp to add all multiples of 5 between 1-100 in a list\n",
    "\n",
    "list2 = []\n",
    "\n",
    "for i in range(1,101):\n",
    "    div = i%5 == 0\n",
    "    if div:\n",
    "        list2.append(i)\n",
    "print(list2)"
   ]
  },
  {
   "cell_type": "code",
   "execution_count": 77,
   "id": "bf8b748f",
   "metadata": {},
   "outputs": [
    {
     "name": "stdout",
     "output_type": "stream",
     "text": [
      "Even Numbers: [0, 2, 4, 6, 8, 10, 12, 14, 16, 18, 20, 22, 24, 26, 28, 30, 32, 34, 36, 38, 40, 42, 44, 46, 48, 50, 52, 54, 56, 58, 60, 62, 64, 66, 68, 70, 72, 74, 76, 78, 80, 82, 84, 86, 88, 90, 92, 94, 96, 98, 100]\n",
      "Odd Numbers: [1, 3, 5, 7, 9, 11, 13, 15, 17, 19, 21, 23, 25, 27, 29, 31, 33, 35, 37, 39, 41, 43, 45, 47, 49, 51, 53, 55, 57, 59, 61, 63, 65, 67, 69, 71, 73, 75, 77, 79, 81, 83, 85, 87, 89, 91, 93, 95, 97, 99]\n"
     ]
    }
   ],
   "source": [
    "even = []\n",
    "odd = []\n",
    "\n",
    "for i in range(101):\n",
    "    if i%2 == 0:\n",
    "        even.append(i)\n",
    "    elif i%2 !=0:\n",
    "        odd.append(i)\n",
    "        \n",
    "print(f'Even Numbers: {even}')\n",
    "print(f'Odd Numbers: {odd}')"
   ]
  },
  {
   "cell_type": "code",
   "execution_count": 84,
   "id": "7830f188",
   "metadata": {},
   "outputs": [
    {
     "name": "stdout",
     "output_type": "stream",
     "text": [
      "6\n",
      "Guess a Number: 4\n",
      "You Guessed on a Lower Side\n",
      "You have 4 chances left\n",
      "Guess a Number: 8\n",
      "You Guessed on a Higher Side\n",
      "You have 3 chances left\n",
      "Guess a Number: 6\n",
      "You Guessed It Correctly\n",
      "Thank You for Playing\n"
     ]
    }
   ],
   "source": [
    "# number guessing game\n",
    "import random\n",
    "\n",
    "random_number = random.randint(1,10)\n",
    "print(random_number)\n",
    "for i in range(5):\n",
    "    ui = int(input(\"Guess a Number: \"))\n",
    "    if ui == random_number:\n",
    "        print(\"You Guessed It Correctly\")\n",
    "        break\n",
    "    elif ui > random_number:\n",
    "        print(\"You Guessed on a Higher Side\")\n",
    "    else:\n",
    "        print(\"You Guessed on a Lower Side\")\n",
    "    print(f'You have {4-i} chances left')\n",
    "print(\"Thank You for Playing\")"
   ]
  },
  {
   "cell_type": "markdown",
   "id": "2081cdf2",
   "metadata": {},
   "source": [
    "# 25/07/2024"
   ]
  },
  {
   "cell_type": "markdown",
   "id": "93894cec",
   "metadata": {},
   "source": [
    "## Control Flow Statements\n",
    "## **Nested Loop**"
   ]
  },
  {
   "cell_type": "code",
   "execution_count": 14,
   "id": "c1f1d1a3",
   "metadata": {},
   "outputs": [
    {
     "name": "stdout",
     "output_type": "stream",
     "text": [
      "Multiplication table of 1:\n",
      "1\t2\t3\t4\t5\t6\t7\t8\t9\t10\t\n",
      "\n",
      "Multiplication table of 2:\n",
      "2\t4\t6\t8\t10\t12\t14\t16\t18\t20\t\n",
      "\n",
      "Multiplication table of 3:\n",
      "3\t6\t9\t12\t15\t18\t21\t24\t27\t30\t\n",
      "\n",
      "Multiplication table of 4:\n",
      "4\t8\t12\t16\t20\t24\t28\t32\t36\t40\t\n",
      "\n",
      "Multiplication table of 5:\n",
      "5\t10\t15\t20\t25\t30\t35\t40\t45\t50\t\n",
      "\n",
      "Multiplication table of 6:\n",
      "6\t12\t18\t24\t30\t36\t42\t48\t54\t60\t\n",
      "\n",
      "Multiplication table of 7:\n",
      "7\t14\t21\t28\t35\t42\t49\t56\t63\t70\t\n",
      "\n",
      "Multiplication table of 8:\n",
      "8\t16\t24\t32\t40\t48\t56\t64\t72\t80\t\n",
      "\n",
      "Multiplication table of 9:\n",
      "9\t18\t27\t36\t45\t54\t63\t72\t81\t90\t\n",
      "\n",
      "Multiplication table of 10:\n",
      "10\t20\t30\t40\t50\t60\t70\t80\t90\t100\t\n",
      "\n"
     ]
    }
   ],
   "source": [
    "# WAP for 1-10 multiplication table for 1-10\n",
    "\n",
    "for i in range(1,11):\n",
    "    print(f\"Multiplication table of {i}:\")\n",
    "    for j in range(1,11):\n",
    "        print(i*j,end='\\t')\n",
    "    print('\\n')"
   ]
  },
  {
   "cell_type": "code",
   "execution_count": 17,
   "id": "e687d661",
   "metadata": {},
   "outputs": [
    {
     "name": "stdout",
     "output_type": "stream",
     "text": [
      "Enter a number: 5\n",
      "*\n",
      "**\n",
      "***\n",
      "****\n"
     ]
    }
   ],
   "source": [
    "# create a pyramid star pattern\n",
    "# *\n",
    "# **\n",
    "# ***\n",
    "# ****\n",
    "\n",
    "n = int(input(\"Enter a number: \"))\n",
    "\n",
    "for i in range(1,n):\n",
    "    print(i*'*', end='')\n",
    "    print()"
   ]
  },
  {
   "cell_type": "code",
   "execution_count": 29,
   "id": "3ce63ae2",
   "metadata": {},
   "outputs": [
    {
     "name": "stdout",
     "output_type": "stream",
     "text": [
      "55\n"
     ]
    }
   ],
   "source": [
    "# print sum of numbers from 1 to 10 using for loop\n",
    "total = 0\n",
    "\n",
    "for i in range(1,11):\n",
    "    total += i\n",
    "print(total)"
   ]
  },
  {
   "cell_type": "code",
   "execution_count": 32,
   "id": "d05dfe17",
   "metadata": {},
   "outputs": [
    {
     "name": "stdout",
     "output_type": "stream",
     "text": [
      "5 * 1 = 5\n",
      "5 * 2 = 10\n",
      "5 * 3 = 15\n",
      "5 * 4 = 20\n",
      "5 * 5 = 25\n"
     ]
    }
   ],
   "source": [
    "# Print the first 5 multiples of 5 using a for loop.\n",
    "\n",
    "number = 5\n",
    "for i in range(1,6):\n",
    "    print(f'{number} * {i} = {number*i}')"
   ]
  },
  {
   "cell_type": "code",
   "execution_count": 34,
   "id": "3e002a54",
   "metadata": {},
   "outputs": [
    {
     "name": "stdout",
     "output_type": "stream",
     "text": [
      "3 * 1 = 3\n",
      "3 * 2 = 6\n",
      "3 * 3 = 9\n",
      "3 * 4 = 12\n",
      "3 * 5 = 15\n",
      "3 * 6 = 18\n",
      "3 * 7 = 21\n",
      "3 * 8 = 24\n",
      "3 * 9 = 27\n",
      "3 * 10 = 30\n"
     ]
    }
   ],
   "source": [
    "# Print the first 10 multiples of 3 using a for loop.\n",
    "\n",
    "number = 3\n",
    "for i in range(1,11):\n",
    "    print(f'{number} * {i} = {number*i}')"
   ]
  },
  {
   "cell_type": "code",
   "execution_count": 46,
   "id": "a9fd8885",
   "metadata": {},
   "outputs": [
    {
     "name": "stdout",
     "output_type": "stream",
     "text": [
      "Multiplication of 1\n",
      "1 * 1 = 1\t1 * 2 = 2\t1 * 3 = 3\t1 * 4 = 4\t1 * 5 = 5\t\n",
      "\n",
      "Multiplication of 2\n",
      "2 * 1 = 2\t2 * 2 = 4\t2 * 3 = 6\t2 * 4 = 8\t2 * 5 = 10\t\n",
      "\n",
      "Multiplication of 3\n",
      "3 * 1 = 3\t3 * 2 = 6\t3 * 3 = 9\t3 * 4 = 12\t3 * 5 = 15\t\n",
      "\n",
      "Multiplication of 4\n",
      "4 * 1 = 4\t4 * 2 = 8\t4 * 3 = 12\t4 * 4 = 16\t4 * 5 = 20\t\n",
      "\n",
      "Multiplication of 5\n",
      "5 * 1 = 5\t5 * 2 = 10\t5 * 3 = 15\t5 * 4 = 20\t5 * 5 = 25\t\n",
      "\n"
     ]
    }
   ],
   "source": [
    "# Print the product of numbers from 1 to 5 using a for loop.\n",
    "\n",
    "for i in range(1,6):\n",
    "    print(f'Multiplication of {i}')\n",
    "    for j in range(1,6):\n",
    "        print(f'{i} * {j} = {i*j}', end = '\\t')\n",
    "    print('\\n')"
   ]
  },
  {
   "cell_type": "code",
   "execution_count": 51,
   "id": "fa96e9d3",
   "metadata": {},
   "outputs": [
    {
     "name": "stdout",
     "output_type": "stream",
     "text": [
      "120\n"
     ]
    }
   ],
   "source": [
    "# Print the factorial of 5 using a for loop.\n",
    "product = 1\n",
    "\n",
    "for i in range(1,6):\n",
    "    product *= i\n",
    "print(product)"
   ]
  },
  {
   "cell_type": "code",
   "execution_count": 89,
   "id": "6a2d13d0",
   "metadata": {},
   "outputs": [
    {
     "name": "stdout",
     "output_type": "stream",
     "text": [
      "1\t2\t3\t5\t8\t13\t21\t34\t55\t89\t144\t"
     ]
    }
   ],
   "source": [
    "# Print the Fibonacci sequence up to 10 using a for loop.\n",
    "\n",
    "num1, num2 = 0, 1\n",
    "\n",
    "for num3 in range(0,11):\n",
    "    num3 = num1 + num2\n",
    "    num1,num2 = num2,num3\n",
    "    print(num3, end = '\\t')"
   ]
  },
  {
   "cell_type": "code",
   "execution_count": 91,
   "id": "70c99b93",
   "metadata": {},
   "outputs": [
    {
     "name": "stdout",
     "output_type": "stream",
     "text": [
      "[1, 2, 3, 4, 5, 6, 7, 8, 9, 10, 11, 12, 13, 14, 15, 16, 17, 18, 19, 20, 21, 22, 23, 24, 25, 26, 27, 28, 29, 30, 31, 32, 33, 34, 35, 36, 37, 38, 39, 40, 41, 42, 43, 44, 45, 46, 47, 48, 49, 50, 51, 52, 53, 54, 55, 56, 57, 58, 59, 60, 61, 62, 63, 64, 65, 66, 67, 68, 69, 70, 71, 72, 73, 74, 75, 76, 77, 78, 79, 80, 81, 82, 83, 84, 85, 86, 87, 88, 89, 90, 91, 92, 93, 94, 95, 96, 97, 98, 99, 100, 101, 102, 103, 104, 105, 106, 107, 108, 109, 110, 111, 112, 113, 114, 115, 116, 117, 118, 119, 120, 121, 122, 123, 124, 125, 126, 127, 128, 129, 130, 131, 132, 133, 134, 135, 136, 137, 138, 139, 140, 141, 142, 143, 144, 145, 146, 147, 148, 149, 150, 151, 152, 153, 154, 155, 156, 157, 158, 159, 160, 161, 162, 163, 164, 165, 166, 167, 168, 169, 170, 171, 172, 173, 174, 175, 176, 177, 178, 179, 180, 181, 182, 183, 184, 185, 186, 187, 188, 189, 190, 191, 192, 193, 194, 195, 196, 197, 198, 199, 200, 201, 202, 203, 204, 205, 206, 207, 208, 209, 210, 211, 212, 213, 214, 215, 216, 217, 218, 219, 220, 221, 222, 223, 224, 225, 226, 227, 228, 229, 230, 231, 232, 233, 234, 235, 236, 237, 238, 239, 240, 241, 242, 243, 244, 245, 246, 247, 248, 249, 250, 251, 252, 253, 254, 255, 256, 257, 258, 259, 260, 261, 262, 263, 264, 265, 266, 267, 268, 269, 270, 271, 272, 273, 274, 275, 276, 277, 278, 279, 280, 281, 282, 283, 284, 285, 286, 287, 288, 289, 290, 291, 292, 293, 294, 295, 296, 297, 298, 299, 300, 301, 302, 303, 304, 305, 306, 307, 308, 309, 310, 311, 312, 313, 314, 315, 316, 317, 318, 319, 320, 321, 322, 323, 324, 325, 326, 327, 328, 329, 330, 331, 332, 333, 334, 335, 336, 337, 338, 339, 340, 341, 342, 343, 344, 345, 346, 347, 348, 349, 350, 351, 352, 353, 354, 355, 356, 357, 358, 359, 360, 361, 362, 363, 364, 365, 366, 367, 368, 369, 370, 371, 372, 373, 374, 375, 376, 377, 378, 379, 380, 381, 382, 383, 384, 385, 386, 387, 388, 389, 390, 391, 392, 393, 394, 395, 396, 397, 398, 399, 400, 401, 402, 403, 404, 405, 406, 407, 408, 409, 410, 411, 412, 413, 414, 415, 416, 417, 418, 419, 420, 421, 422, 423, 424, 425, 426, 427, 428, 429, 430, 431, 432, 433, 434, 435, 436, 437, 438, 439, 440, 441, 442, 443, 444, 445, 446, 447, 448, 449, 450, 451, 452, 453, 454, 455, 456, 457, 458, 459, 460, 461, 462, 463, 464, 465, 466, 467, 468, 469, 470, 471, 472, 473, 474, 475, 476, 477, 478, 479, 480, 481, 482, 483, 484, 485, 486, 487, 488, 489, 490, 491, 492, 493, 494, 495, 496, 497, 498, 499, 500, 501, 502, 503, 504, 505, 506, 507, 508, 509, 510, 511, 512, 513, 514, 515, 516, 517, 518, 519, 520, 521, 522, 523, 524, 525, 526, 527, 528, 529, 530, 531, 532, 533, 534, 535, 536, 537, 538, 539, 540, 541, 542, 543, 544, 545, 546, 547, 548, 549, 550, 551, 552, 553, 554, 555, 556, 557, 558, 559, 560, 561, 562, 563, 564, 565, 566, 567, 568, 569, 570, 571, 572, 573, 574, 575, 576, 577, 578, 579, 580, 581, 582, 583, 584, 585, 586, 587, 588, 589, 590, 591, 592, 593, 594, 595, 596, 597, 598, 599, 600, 601, 602, 603, 604, 605, 606, 607, 608, 609, 610, 611, 612, 613, 614, 615, 616, 617, 618, 619, 620, 621, 622, 623, 624, 625, 626, 627, 628, 629, 630, 631, 632, 633, 634, 635, 636, 637, 638, 639, 640, 641, 642, 643, 644, 645, 646, 647, 648, 649, 650, 651, 652, 653, 654, 655, 656, 657, 658, 659, 660, 661, 662, 663, 664, 665, 666, 667, 668, 669, 670, 671, 672, 673, 674, 675, 676, 677, 678, 679, 680, 681, 682, 683, 684, 685, 686, 687, 688, 689, 690, 691, 692, 693, 694, 695, 696, 697, 698, 699, 700, 701, 702, 703, 704, 705, 706, 707, 708, 709, 710, 711, 712, 713, 714, 715, 716, 717, 718, 719, 720, 721, 722, 723, 724, 725, 726, 727, 728, 729, 730, 731, 732, 733, 734, 735, 736, 737, 738, 739, 740, 741, 742, 743, 744, 745, 746, 747, 748, 749, 750, 751, 752, 753, 754, 755, 756, 757, 758, 759, 760, 761, 762, 763, 764, 765, 766, 767, 768, 769, 770, 771, 772, 773, 774, 775, 776, 777, 778, 779, 780, 781, 782, 783, 784, 785, 786, 787, 788, 789, 790, 791, 792, 793, 794, 795, 796, 797, 798, 799, 800, 801, 802, 803, 804, 805, 806, 807, 808, 809, 810, 811, 812, 813, 814, 815, 816, 817, 818, 819, 820, 821, 822, 823, 824, 825, 826, 827, 828, 829, 830, 831, 832, 833, 834, 835, 836, 837, 838, 839, 840, 841, 842, 843, 844, 845, 846, 847, 848, 849, 850, 851, 852, 853, 854, 855, 856, 857, 858, 859, 860, 861, 862, 863, 864, 865, 866, 867, 868, 869, 870, 871, 872, 873, 874, 875, 876, 877, 878, 879, 880, 881, 882, 883, 884, 885, 886, 887, 888, 889, 890, 891, 892, 893, 894, 895, 896, 897, 898, 899, 900, 901, 902, 903, 904, 905, 906, 907, 908, 909, 910, 911, 912, 913, 914, 915, 916, 917, 918, 919, 920, 921, 922, 923, 924, 925, 926, 927, 928, 929, 930, 931, 932, 933, 934, 935, 936, 937, 938, 939, 940, 941, 942, 943, 944, 945, 946, 947, 948, 949, 950, 951, 952, 953, 954, 955, 956, 957, 958, 959, 960, 961, 962, 963, 964, 965, 966, 967, 968, 969, 970, 971, 972, 973, 974, 975, 976, 977, 978, 979, 980, 981, 982, 983, 984, 985, 986, 987, 988, 989, 990, 991, 992, 993, 994, 995, 996, 997, 998, 999, 1000]\n"
     ]
    }
   ],
   "source": [
    "# list comprehension\n",
    "\n",
    "list_comp = [x for x in range(1,1001)]\n",
    "print(list_comp)"
   ]
  },
  {
   "cell_type": "code",
   "execution_count": 92,
   "id": "bbbf15fb",
   "metadata": {},
   "outputs": [
    {
     "name": "stdout",
     "output_type": "stream",
     "text": [
      "Hello World String:\n",
      "['H', 'e', 'l', 'l', 'o', ' ', 'W', 'o', 'r', 'l', 'd']\n",
      "List of first 100 Numbers:\n",
      "[0, 1, 2, 3, 4, 5, 6, 7, 8, 9, 10, 11, 12, 13, 14, 15, 16, 17, 18, 19, 20, 21, 22, 23, 24, 25, 26, 27, 28, 29, 30, 31, 32, 33, 34, 35, 36, 37, 38, 39, 40, 41, 42, 43, 44, 45, 46, 47, 48, 49, 50, 51, 52, 53, 54, 55, 56, 57, 58, 59, 60, 61, 62, 63, 64, 65, 66, 67, 68, 69, 70, 71, 72, 73, 74, 75, 76, 77, 78, 79, 80, 81, 82, 83, 84, 85, 86, 87, 88, 89, 90, 91, 92, 93, 94, 95, 96, 97, 98, 99, 100]\n",
      "List of first 100 Numbers * 2:\n",
      "[0, 2, 4, 6, 8, 10, 12, 14, 16, 18, 20, 22, 24, 26, 28, 30, 32, 34, 36, 38, 40, 42, 44, 46, 48, 50, 52, 54, 56, 58, 60, 62, 64, 66, 68, 70, 72, 74, 76, 78, 80, 82, 84, 86, 88, 90, 92, 94, 96, 98, 100, 102, 104, 106, 108, 110, 112, 114, 116, 118, 120, 122, 124, 126, 128, 130, 132, 134, 136, 138, 140, 142, 144, 146, 148, 150, 152, 154, 156, 158, 160, 162, 164, 166, 168, 170, 172, 174, 176, 178, 180, 182, 184, 186, 188, 190, 192, 194, 196, 198, 200]\n"
     ]
    }
   ],
   "source": [
    "string = 'Hello World'\n",
    "\n",
    "lst2 = list(range(101))\n",
    "\n",
    "lst = [letter for letter in string]\n",
    "\n",
    "lst3 = [i*2 for i in lst2]\n",
    "\n",
    "print(\"Hello World String:\")\n",
    "print(lst)\n",
    "\n",
    "print(\"List of first 100 Numbers:\")\n",
    "print(lst2)\n",
    "\n",
    "print(\"List of first 100 Numbers * 2:\")\n",
    "print(lst3)"
   ]
  },
  {
   "cell_type": "code",
   "execution_count": 93,
   "id": "575fee9a",
   "metadata": {},
   "outputs": [],
   "source": [
    "import random\n",
    "\n",
    "guests = [random.randint(1,90) for i in range(100)]\n",
    "\n",
    "entry = [i for i in guests if i>=18]"
   ]
  },
  {
   "cell_type": "code",
   "execution_count": 94,
   "id": "949a84ef",
   "metadata": {},
   "outputs": [
    {
     "name": "stdout",
     "output_type": "stream",
     "text": [
      "[66, 49, 62, 38, 88, 68, 54, 90, 47, 69, 69, 72, 82, 85, 85, 68, 50, 62, 60, 60, 42, 83, 23, 65, 27, 49, 76, 83, 44, 22, 63, 59, 66, 47, 54, 26, 33, 56, 46, 35, 29, 24, 18, 38, 33, 78, 72, 62, 44, 56, 60, 50, 33, 82, 30, 43, 60, 62, 36, 70, 69, 90, 62, 33, 19, 89, 43, 88, 57, 50, 88, 66, 32, 69, 53, 68, 43, 44, 21, 77, 52, 23, 24, 71, 37]\n"
     ]
    }
   ],
   "source": [
    "print(entry)"
   ]
  },
  {
   "cell_type": "code",
   "execution_count": 96,
   "id": "5ff67548",
   "metadata": {},
   "outputs": [
    {
     "name": "stdout",
     "output_type": "stream",
     "text": [
      "Multiples of 6:\n",
      "[0, 6, 12, 18, 24, 30, 36, 42, 48, 54, 60, 66, 72, 78, 84, 90, 96]\n",
      "Multiples of 11:\n",
      "[11, 22, 33, 44, 55, 77, 88, 99]\n",
      "Other Numbers\n",
      "[241, 247, 270, 256, 250, 223, 203, 206, 272, 272, 245, 221, 210, 213, 236, 264, 272, 203, 245, 243, 294, 209, 220, 235, 217, 291, 229, 218, 229, 237, 266, 279, 207, 233, 231, 294, 256, 252, 217, 209, 292, 220, 217, 275, 254, 268, 254, 202, 253, 267, 217, 240, 224, 287, 208, 284, 214, 295, 230, 255, 245, 220, 301, 244, 286, 263, 249, 219, 224, 250, 225, 273, 221, 264, 249, 288, 265, 293, 254, 239, 288, 261, 223, 298, 247, 207, 283, 208, 244, 293, 288, 299, 261, 295, 214, 206, 273, 258, 294, 230, 1, 2, 3, 4, 5, 7, 8, 9, 10, 13, 14, 15, 16, 17, 19, 20, 21, 23, 25, 26, 27, 28, 29, 31, 32, 34, 35, 37, 38, 39, 40, 41, 43, 45, 46, 47, 49, 50, 51, 52, 53, 56, 57, 58, 59, 61, 62, 63, 64, 65, 67, 68, 69, 70, 71, 73, 74, 75, 76, 79, 80, 81, 82, 83, 85, 86, 87, 89, 91, 92, 93, 94, 95, 97, 98]\n"
     ]
    }
   ],
   "source": [
    "number = [random.randint(200,301) for _ in range(100)]\n",
    "\n",
    "mult_6 = []\n",
    "mult_11 = []\n",
    "\n",
    "for i in range(100):\n",
    "    if i%6 == 0:\n",
    "        mult_6.append(i)\n",
    "    elif i%11 ==0:\n",
    "        mult_11.append(i)\n",
    "    else:\n",
    "        number.append(i)\n",
    "        \n",
    "print(\"Multiples of 6:\")\n",
    "print(mult_6)\n",
    "\n",
    "print(\"Multiples of 11:\")\n",
    "print(mult_11)\n",
    "\n",
    "print(\"Other Numbers\")\n",
    "print(number)"
   ]
  },
  {
   "cell_type": "code",
   "execution_count": 100,
   "id": "035f750f",
   "metadata": {},
   "outputs": [
    {
     "name": "stdout",
     "output_type": "stream",
     "text": [
      "Multiples of 6:\n",
      "[294, 210, 210, 240, 222, 288, 300, 300, 234, 228, 264, 270]\n",
      "Multiples of 11:\n",
      "[275, 242, 209, 209, 286, 297, 220, 231, 209, 231, 264, 231, 297, 231]\n",
      "Other Numbers:\n",
      "[294, 203, 227, 235, 259, 218, 256, 267, 244, 275, 242, 209, 260, 210, 289, 233, 227, 210, 209, 203, 286, 271, 223, 248, 278, 232, 205, 236, 263, 301, 278, 277, 297, 251, 274, 256, 256, 254, 212, 226, 247, 251, 202, 285, 220, 226, 211, 301, 291, 230, 231, 269, 203, 240, 265, 248, 224, 222, 292, 208, 299, 257, 237, 209, 221, 288, 238, 243, 289, 203, 292, 217, 231, 290, 268, 291, 233, 300, 260, 300, 295, 229, 256, 234, 244, 228, 264, 293, 238, 231, 225, 229, 278, 297, 245, 201, 231, 255, 270, 236]\n"
     ]
    }
   ],
   "source": [
    "number1 = [random.randint(200,301) for _ in range(100)]\n",
    "\n",
    "multi_6 = [i for i in number1 if i%6==0]\n",
    "multi_11 = [i for i in number1  if i%11==0]\n",
    "\n",
    "print(\"Multiples of 6:\")\n",
    "print(multi_6)\n",
    "\n",
    "print(\"Multiples of 11:\")\n",
    "print(multi_11)\n",
    "\n",
    "print(\"Other Numbers:\")\n",
    "print(number1)"
   ]
  },
  {
   "cell_type": "markdown",
   "id": "99975923",
   "metadata": {},
   "source": [
    "## While Loop"
   ]
  },
  {
   "cell_type": "code",
   "execution_count": 102,
   "id": "21d2e00e",
   "metadata": {},
   "outputs": [
    {
     "name": "stdout",
     "output_type": "stream",
     "text": [
      "0\t1\t2\t3\t4\t5\t6\t7\t8\t9\t10\t"
     ]
    }
   ],
   "source": [
    "# while loop to create a list of first 10 numbers\n",
    "counter = 0\n",
    "\n",
    "while counter<=10:\n",
    "    print(counter, end='\\t')\n",
    "    counter+=1"
   ]
  },
  {
   "cell_type": "code",
   "execution_count": 104,
   "id": "4e483ae4",
   "metadata": {},
   "outputs": [
    {
     "name": "stdout",
     "output_type": "stream",
     "text": [
      "10\t9\t8\t7\t6\t5\t4\t3\t2\t1\t"
     ]
    }
   ],
   "source": [
    "# while loop to create a list of first 10 numbers in reverse\n",
    "\n",
    "reverse = 10\n",
    "\n",
    "while reverse<=10:\n",
    "    print(reverse,end='\\t')\n",
    "    reverse-=1\n",
    "    if reverse == 0:\n",
    "        break"
   ]
  },
  {
   "cell_type": "code",
   "execution_count": 106,
   "id": "afffdeb3",
   "metadata": {},
   "outputs": [
    {
     "name": "stdout",
     "output_type": "stream",
     "text": [
      "10 9 8 7 6 5 4 3 2 1 "
     ]
    }
   ],
   "source": [
    "reverse1 = 10\n",
    "while reverse1 >=1:\n",
    "    print(reverse1, end=' ')\n",
    "    reverse1 -=1"
   ]
  },
  {
   "cell_type": "code",
   "execution_count": 110,
   "id": "3a8e3927",
   "metadata": {},
   "outputs": [
    {
     "name": "stdout",
     "output_type": "stream",
     "text": [
      "dlroW olleH\n"
     ]
    }
   ],
   "source": [
    "# reverse the string using while loop\n",
    "string = 'Hello World'\n",
    "reversed_string = \"\"\n",
    "size = len(string)\n",
    "\n",
    "while True:\n",
    "    if size == 0: break\n",
    "    reversed_string = reversed_string + string[size-1] \n",
    "    size-=1\n",
    "    \n",
    "print(reversed_string)"
   ]
  },
  {
   "cell_type": "markdown",
   "id": "47005cd6",
   "metadata": {},
   "source": [
    "# 26/07/2024"
   ]
  },
  {
   "cell_type": "markdown",
   "id": "4ca048e1",
   "metadata": {},
   "source": [
    "## Modularizing Codes"
   ]
  },
  {
   "cell_type": "markdown",
   "id": "7cff3407",
   "metadata": {},
   "source": [
    "### Creating Functions"
   ]
  },
  {
   "cell_type": "code",
   "execution_count": 1,
   "id": "457da954",
   "metadata": {},
   "outputs": [
    {
     "data": {
      "text/plain": [
       "11"
      ]
     },
     "execution_count": 1,
     "metadata": {},
     "output_type": "execute_result"
    }
   ],
   "source": [
    "# Create a function to add two numbers\n",
    "\n",
    "def add(num1, num2):\n",
    "    \"\"\"This is the function to add 2 numbers\"\"\"\n",
    "    s = num1 + num2\n",
    "    return(s)\n",
    "\n",
    "# Testing the function\n",
    "add(5,6)"
   ]
  },
  {
   "cell_type": "code",
   "execution_count": 2,
   "id": "f6917d0a",
   "metadata": {},
   "outputs": [
    {
     "name": "stdout",
     "output_type": "stream",
     "text": [
      "Help on function add in module __main__:\n",
      "\n",
      "add(num1, num2)\n",
      "    This is the function to add 2 numbers\n",
      "\n"
     ]
    }
   ],
   "source": [
    "help(add)"
   ]
  },
  {
   "cell_type": "code",
   "execution_count": 3,
   "id": "9f61a069",
   "metadata": {},
   "outputs": [
    {
     "data": {
      "text/plain": [
       "5"
      ]
     },
     "execution_count": 3,
     "metadata": {},
     "output_type": "execute_result"
    }
   ],
   "source": [
    "# Create a function to subtract two numbers\n",
    "\n",
    "def sub(num1, num2):\n",
    "    \"\"\"This is the function to subtract 2 numbers\"\"\"\n",
    "    subtr = num1 - num2\n",
    "    return(subtr)\n",
    "\n",
    "# Testing the function\n",
    "sub(11,6)"
   ]
  },
  {
   "cell_type": "code",
   "execution_count": 4,
   "id": "5ec12677",
   "metadata": {},
   "outputs": [
    {
     "name": "stdout",
     "output_type": "stream",
     "text": [
      "Help on function sub in module __main__:\n",
      "\n",
      "sub(num1, num2)\n",
      "    This is the function to subtract 2 numbers\n",
      "\n"
     ]
    }
   ],
   "source": [
    "help(sub)"
   ]
  },
  {
   "cell_type": "code",
   "execution_count": 5,
   "id": "3f1ef2b3",
   "metadata": {},
   "outputs": [
    {
     "data": {
      "text/plain": [
       "2.0"
      ]
     },
     "execution_count": 5,
     "metadata": {},
     "output_type": "execute_result"
    }
   ],
   "source": [
    "# Create a function to divide two numbers\n",
    "\n",
    "def div(num1, num2):\n",
    "    \"\"\"This is the function to divide 2 numbers\"\"\"\n",
    "    d = num1/num2\n",
    "    return(d)\n",
    "\n",
    "# Testing the function\n",
    "div(12,6)"
   ]
  },
  {
   "cell_type": "code",
   "execution_count": 6,
   "id": "fc71460d",
   "metadata": {},
   "outputs": [
    {
     "name": "stdout",
     "output_type": "stream",
     "text": [
      "Help on function div in module __main__:\n",
      "\n",
      "div(num1, num2)\n",
      "    This is the function to divide 2 numbers\n",
      "\n"
     ]
    }
   ],
   "source": [
    "help(div)"
   ]
  },
  {
   "cell_type": "code",
   "execution_count": 7,
   "id": "615926e0",
   "metadata": {},
   "outputs": [
    {
     "data": {
      "text/plain": [
       "15625"
      ]
     },
     "execution_count": 7,
     "metadata": {},
     "output_type": "execute_result"
    }
   ],
   "source": [
    "# Create a function to find exponent of a number\n",
    "\n",
    "def exp(num1, num2):\n",
    "    \"\"\"This is the function to find exponent of a number\"\"\"\n",
    "    e = num1**num2\n",
    "    return(e)\n",
    "\n",
    "# Testing the function\n",
    "exp(5,6)"
   ]
  },
  {
   "cell_type": "code",
   "execution_count": 8,
   "id": "8c4a3c13",
   "metadata": {},
   "outputs": [
    {
     "name": "stdout",
     "output_type": "stream",
     "text": [
      "Help on function exp in module __main__:\n",
      "\n",
      "exp(num1, num2)\n",
      "    This is the function to find exponent of a number\n",
      "\n"
     ]
    }
   ],
   "source": [
    "help(exp)"
   ]
  },
  {
   "cell_type": "code",
   "execution_count": 9,
   "id": "eb1d9558",
   "metadata": {},
   "outputs": [
    {
     "data": {
      "text/plain": [
       "30"
      ]
     },
     "execution_count": 9,
     "metadata": {},
     "output_type": "execute_result"
    }
   ],
   "source": [
    "# Create a function to multiply two numbers\n",
    "\n",
    "def mult(num1, num2):\n",
    "    \"\"\"This is the function to multiply 2 numbers\"\"\"\n",
    "    p = num1*num2\n",
    "    return(p)\n",
    "\n",
    "# Testing the function\n",
    "mult(5,6)"
   ]
  },
  {
   "cell_type": "code",
   "execution_count": 10,
   "id": "cb18e854",
   "metadata": {},
   "outputs": [
    {
     "name": "stdout",
     "output_type": "stream",
     "text": [
      "Help on function mult in module __main__:\n",
      "\n",
      "mult(num1, num2)\n",
      "    This is the function to multiply 2 numbers\n",
      "\n"
     ]
    }
   ],
   "source": [
    "help(mult)"
   ]
  },
  {
   "cell_type": "markdown",
   "id": "9a172439",
   "metadata": {},
   "source": [
    "### Creating a library of functions"
   ]
  },
  {
   "cell_type": "code",
   "execution_count": 12,
   "id": "e9c3faa5",
   "metadata": {},
   "outputs": [
    {
     "name": "stdout",
     "output_type": "stream",
     "text": [
      "Writing test_math.py\n"
     ]
    }
   ],
   "source": [
    "%%writefile test_math.py\n",
    "\n",
    "# Create a function to add two numbers\n",
    "def add(num1, num2):\n",
    "    \"\"\"This is the function to add 2 numbers\"\"\"\n",
    "    s = num1 + num2\n",
    "    return(s)\n",
    "\n",
    "# Create a function to subtract two numbers\n",
    "def sub(num1, num2):\n",
    "    \"\"\"This is the function to subtract 2 numbers\"\"\"\n",
    "    subtr = num1 - num2\n",
    "    return(subtr)\n",
    "\n",
    "# Create a function to multiply two numbers\n",
    "def mult(num1, num2):\n",
    "    \"\"\"This is the function to multiply 2 numbers\"\"\"\n",
    "    p = num1*num2\n",
    "    return(p)\n",
    "\n",
    "# Create a function to divide two numbers\n",
    "def div(num1, num2):\n",
    "    \"\"\"This is the function to divide 2 numbers\"\"\"\n",
    "    d = num1/num2\n",
    "    return(d)\n",
    "\n",
    "# Create a function to find exponent of a number\n",
    "def exp(num1, num2):\n",
    "    \"\"\"This is the function to find exponent of a number\"\"\"\n",
    "    e = num1**num2\n",
    "    return(e)"
   ]
  },
  {
   "cell_type": "markdown",
   "id": "d65ae478",
   "metadata": {},
   "source": [
    "## Lambda Functions"
   ]
  },
  {
   "cell_type": "code",
   "execution_count": 14,
   "id": "78d590ac",
   "metadata": {},
   "outputs": [
    {
     "data": {
      "text/plain": [
       "3"
      ]
     },
     "execution_count": 14,
     "metadata": {},
     "output_type": "execute_result"
    }
   ],
   "source": [
    "# creating a lambda function of adding 2 words\n",
    "add = lambda x,y: x+y\n",
    "\n",
    "add(1,2)"
   ]
  },
  {
   "cell_type": "code",
   "execution_count": 15,
   "id": "b23befc0",
   "metadata": {},
   "outputs": [
    {
     "data": {
      "text/plain": [
       "'Lesser'"
      ]
     },
     "execution_count": 15,
     "metadata": {},
     "output_type": "execute_result"
    }
   ],
   "source": [
    "# creating a lambda function to check which number is greater\n",
    "var = lambda x,y: \"Greater\" if x>y else \"Lesser\"\n",
    "\n",
    "var(1,2)"
   ]
  },
  {
   "cell_type": "code",
   "execution_count": 16,
   "id": "22629d26",
   "metadata": {},
   "outputs": [
    {
     "data": {
      "text/plain": [
       "90"
      ]
     },
     "execution_count": 16,
     "metadata": {},
     "output_type": "execute_result"
    }
   ],
   "source": [
    "# creating a lambda function for multiplying 2 numbers\n",
    "mult = lambda x,y: x*y\n",
    "\n",
    "mult(6,15)"
   ]
  },
  {
   "cell_type": "code",
   "execution_count": 19,
   "id": "7afd7767",
   "metadata": {},
   "outputs": [
    {
     "data": {
      "text/plain": [
       "298.15"
      ]
     },
     "execution_count": 19,
     "metadata": {},
     "output_type": "execute_result"
    }
   ],
   "source": [
    "# lambda expression to convert celcius to kelvin\n",
    "\n",
    "converter = lambda x: x + 273.15\n",
    "\n",
    "converter(25)"
   ]
  },
  {
   "cell_type": "code",
   "execution_count": 25,
   "id": "6e50e23d",
   "metadata": {},
   "outputs": [
    {
     "name": "stdout",
     "output_type": "stream",
     "text": [
      "Shubh\n"
     ]
    },
    {
     "data": {
      "text/plain": [
       "'hbuhS'"
      ]
     },
     "execution_count": 25,
     "metadata": {},
     "output_type": "execute_result"
    }
   ],
   "source": [
    "string = input()\n",
    "\n",
    "reversed = lambda reversed_string: reversed_string[::-1]\n",
    "\n",
    "reversed(\"Shubh\")"
   ]
  }
 ],
 "metadata": {
  "kernelspec": {
   "display_name": "Python 3 (ipykernel)",
   "language": "python",
   "name": "python3"
  },
  "language_info": {
   "codemirror_mode": {
    "name": "ipython",
    "version": 3
   },
   "file_extension": ".py",
   "mimetype": "text/x-python",
   "name": "python",
   "nbconvert_exporter": "python",
   "pygments_lexer": "ipython3",
   "version": "3.10.9"
  }
 },
 "nbformat": 4,
 "nbformat_minor": 5
}
